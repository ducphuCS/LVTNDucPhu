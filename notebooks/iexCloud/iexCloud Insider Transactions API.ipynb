{
 "cells": [
  {
   "cell_type": "markdown",
   "metadata": {},
   "source": [
    "## Crawling Data with API"
   ]
  },
  {
   "cell_type": "code",
   "execution_count": 1,
   "metadata": {},
   "outputs": [],
   "source": [
    "from requests import Request, Session\n",
    "from requests.exceptions import ConnectionError, Timeout, TooManyRedirects\n",
    "import json"
   ]
  },
  {
   "cell_type": "code",
   "execution_count": 2,
   "metadata": {},
   "outputs": [],
   "source": [
    "# using sandbox as it's only available for paid subscriptions\n",
    "url = 'https://sandbox.iexapis.com/stable/stock/AAPL/insider-transactions'"
   ]
  },
  {
   "cell_type": "code",
   "execution_count": 3,
   "metadata": {},
   "outputs": [],
   "source": [
    "parameters = {\n",
    "    'token': 'Tsk_83f2c0eee6bb4600b8d8f9936a5769f2'\n",
    "}\n",
    "headers = {\n",
    "    'Accepts': 'application/json'\n",
    "}"
   ]
  },
  {
   "cell_type": "code",
   "execution_count": 4,
   "metadata": {},
   "outputs": [],
   "source": [
    "session = Session()\n",
    "session.headers.update(headers)"
   ]
  },
  {
   "cell_type": "code",
   "execution_count": 5,
   "metadata": {},
   "outputs": [],
   "source": [
    "try:\n",
    "    response = session.get(url, params=parameters)\n",
    "    data = json.loads(response.text)\n",
    "except (ConnectionError, Timeout, TooManyRedirects) as e:\n",
    "    print(e)"
   ]
  },
  {
   "cell_type": "code",
   "execution_count": 6,
   "metadata": {},
   "outputs": [
    {
     "data": {
      "text/plain": [
       "33"
      ]
     },
     "execution_count": 6,
     "metadata": {},
     "output_type": "execute_result"
    }
   ],
   "source": [
    "len(data)"
   ]
  },
  {
   "cell_type": "code",
   "execution_count": 7,
   "metadata": {},
   "outputs": [],
   "source": [
    "import numpy as np\n",
    "import pandas as pd"
   ]
  },
  {
   "cell_type": "code",
   "execution_count": 8,
   "metadata": {
    "scrolled": true
   },
   "outputs": [],
   "source": [
    "df = pd.DataFrame(data)"
   ]
  },
  {
   "cell_type": "markdown",
   "metadata": {},
   "source": [
    "## Preprocessing Data"
   ]
  },
  {
   "cell_type": "markdown",
   "metadata": {},
   "source": [
    "Drop reportedTitle and fullName <br>\n",
    "Change effectiveData and updated from UNIX timestamp to datetime"
   ]
  },
  {
   "cell_type": "code",
   "execution_count": 9,
   "metadata": {},
   "outputs": [],
   "source": [
    "df = df.drop(columns=['reportedTitle', 'fullName'])\n",
    "df['effectiveDate'] = pd.to_datetime(df['effectiveDate'],unit='ms')\n",
    "df['updated'] = pd.to_datetime(df['updated'],unit='ms')"
   ]
  },
  {
   "cell_type": "code",
   "execution_count": 10,
   "metadata": {},
   "outputs": [],
   "source": [
    "df = df.drop(columns=['key'])"
   ]
  },
  {
   "cell_type": "markdown",
   "metadata": {},
   "source": [
    "### Describe Data"
   ]
  },
  {
   "cell_type": "code",
   "execution_count": 12,
   "metadata": {},
   "outputs": [
    {
     "data": {
      "text/html": [
       "<div>\n",
       "<style scoped>\n",
       "    .dataframe tbody tr th:only-of-type {\n",
       "        vertical-align: middle;\n",
       "    }\n",
       "\n",
       "    .dataframe tbody tr th {\n",
       "        vertical-align: top;\n",
       "    }\n",
       "\n",
       "    .dataframe thead th {\n",
       "        text-align: right;\n",
       "    }\n",
       "</style>\n",
       "<table border=\"1\" class=\"dataframe\">\n",
       "  <thead>\n",
       "    <tr style=\"text-align: right;\">\n",
       "      <th></th>\n",
       "      <th>conversionOrExercisePrice</th>\n",
       "      <th>directIndirect</th>\n",
       "      <th>effectiveDate</th>\n",
       "      <th>filingDate</th>\n",
       "      <th>is10b51</th>\n",
       "      <th>postShares</th>\n",
       "      <th>symbol</th>\n",
       "      <th>transactionCode</th>\n",
       "      <th>transactionDate</th>\n",
       "      <th>transactionPrice</th>\n",
       "      <th>transactionShares</th>\n",
       "      <th>transactionValue</th>\n",
       "      <th>id</th>\n",
       "      <th>subkey</th>\n",
       "      <th>updated</th>\n",
       "      <th>tranPrice</th>\n",
       "      <th>tranShares</th>\n",
       "      <th>tranValue</th>\n",
       "    </tr>\n",
       "  </thead>\n",
       "  <tbody>\n",
       "    <tr>\n",
       "      <th>0</th>\n",
       "      <td>NaN</td>\n",
       "      <td>D</td>\n",
       "      <td>2022-04-30 06:03:51.769</td>\n",
       "      <td>2019-12-25</td>\n",
       "      <td>False</td>\n",
       "      <td>862584</td>\n",
       "      <td>AAPL</td>\n",
       "      <td>G</td>\n",
       "      <td>2019-12-24</td>\n",
       "      <td>NaN</td>\n",
       "      <td>-7224</td>\n",
       "      <td>NaN</td>\n",
       "      <td>CSSRDOIIESANTINNAT_R</td>\n",
       "      <td>2200000203-3190-0000</td>\n",
       "      <td>2023-06-25 05:47:48.451</td>\n",
       "      <td>NaN</td>\n",
       "      <td>-6908</td>\n",
       "      <td>NaN</td>\n",
       "    </tr>\n",
       "    <tr>\n",
       "      <th>1</th>\n",
       "      <td>NaN</td>\n",
       "      <td>D</td>\n",
       "      <td>2022-01-15 10:48:47.349</td>\n",
       "      <td>2020-01-31</td>\n",
       "      <td>False</td>\n",
       "      <td>0</td>\n",
       "      <td>AAPL</td>\n",
       "      <td>M</td>\n",
       "      <td>2020-01-26</td>\n",
       "      <td>NaN</td>\n",
       "      <td>1446</td>\n",
       "      <td>NaN</td>\n",
       "      <td>E_SRSNATCTIODIINASNR</td>\n",
       "      <td>291-303300200000200-</td>\n",
       "      <td>2023-06-06 14:19:17.744</td>\n",
       "      <td>NaN</td>\n",
       "      <td>1483</td>\n",
       "      <td>NaN</td>\n",
       "    </tr>\n",
       "    <tr>\n",
       "      <th>2</th>\n",
       "      <td>NaN</td>\n",
       "      <td>D</td>\n",
       "      <td>2020-06-05 00:19:41.953</td>\n",
       "      <td>2020-02-18</td>\n",
       "      <td>False</td>\n",
       "      <td>864</td>\n",
       "      <td>AAPL</td>\n",
       "      <td>A</td>\n",
       "      <td>2020-02-11</td>\n",
       "      <td>NaN</td>\n",
       "      <td>869</td>\n",
       "      <td>NaN</td>\n",
       "      <td>IIASSTOSICNDRANT_ERN</td>\n",
       "      <td>0213000000030-3290-3</td>\n",
       "      <td>2023-04-30 16:47:13.686</td>\n",
       "      <td>NaN</td>\n",
       "      <td>885</td>\n",
       "      <td>NaN</td>\n",
       "    </tr>\n",
       "    <tr>\n",
       "      <th>3</th>\n",
       "      <td>NaN</td>\n",
       "      <td>D</td>\n",
       "      <td>2022-07-08 09:54:32.726</td>\n",
       "      <td>2020-02-19</td>\n",
       "      <td>False</td>\n",
       "      <td>879</td>\n",
       "      <td>AAPL</td>\n",
       "      <td>A</td>\n",
       "      <td>2020-02-22</td>\n",
       "      <td>NaN</td>\n",
       "      <td>858</td>\n",
       "      <td>NaN</td>\n",
       "      <td>SRSCREITSTDAN_NINAIO</td>\n",
       "      <td>2-0300300029-0135000</td>\n",
       "      <td>2023-01-14 16:39:43.926</td>\n",
       "      <td>NaN</td>\n",
       "      <td>869</td>\n",
       "      <td>NaN</td>\n",
       "    </tr>\n",
       "    <tr>\n",
       "      <th>4</th>\n",
       "      <td>NaN</td>\n",
       "      <td>D</td>\n",
       "      <td>2021-03-18 15:38:33.740</td>\n",
       "      <td>2020-02-27</td>\n",
       "      <td>False</td>\n",
       "      <td>895</td>\n",
       "      <td>AAPL</td>\n",
       "      <td>A</td>\n",
       "      <td>2020-02-18</td>\n",
       "      <td>NaN</td>\n",
       "      <td>866</td>\n",
       "      <td>NaN</td>\n",
       "      <td>TDAO_SRAINIETNSNRISC</td>\n",
       "      <td>31023-2000000030-092</td>\n",
       "      <td>2022-09-15 11:34:01.434</td>\n",
       "      <td>NaN</td>\n",
       "      <td>863</td>\n",
       "      <td>NaN</td>\n",
       "    </tr>\n",
       "  </tbody>\n",
       "</table>\n",
       "</div>"
      ],
      "text/plain": [
       "   conversionOrExercisePrice directIndirect           effectiveDate  \\\n",
       "0                        NaN              D 2022-04-30 06:03:51.769   \n",
       "1                        NaN              D 2022-01-15 10:48:47.349   \n",
       "2                        NaN              D 2020-06-05 00:19:41.953   \n",
       "3                        NaN              D 2022-07-08 09:54:32.726   \n",
       "4                        NaN              D 2021-03-18 15:38:33.740   \n",
       "\n",
       "   filingDate  is10b51  postShares symbol transactionCode transactionDate  \\\n",
       "0  2019-12-25    False      862584   AAPL               G      2019-12-24   \n",
       "1  2020-01-31    False           0   AAPL               M      2020-01-26   \n",
       "2  2020-02-18    False         864   AAPL               A      2020-02-11   \n",
       "3  2020-02-19    False         879   AAPL               A      2020-02-22   \n",
       "4  2020-02-27    False         895   AAPL               A      2020-02-18   \n",
       "\n",
       "   transactionPrice  transactionShares  transactionValue  \\\n",
       "0               NaN              -7224               NaN   \n",
       "1               NaN               1446               NaN   \n",
       "2               NaN                869               NaN   \n",
       "3               NaN                858               NaN   \n",
       "4               NaN                866               NaN   \n",
       "\n",
       "                     id                subkey                 updated  \\\n",
       "0  CSSRDOIIESANTINNAT_R  2200000203-3190-0000 2023-06-25 05:47:48.451   \n",
       "1  E_SRSNATCTIODIINASNR  291-303300200000200- 2023-06-06 14:19:17.744   \n",
       "2  IIASSTOSICNDRANT_ERN  0213000000030-3290-3 2023-04-30 16:47:13.686   \n",
       "3  SRSCREITSTDAN_NINAIO  2-0300300029-0135000 2023-01-14 16:39:43.926   \n",
       "4  TDAO_SRAINIETNSNRISC  31023-2000000030-092 2022-09-15 11:34:01.434   \n",
       "\n",
       "   tranPrice  tranShares  tranValue  \n",
       "0        NaN       -6908        NaN  \n",
       "1        NaN        1483        NaN  \n",
       "2        NaN         885        NaN  \n",
       "3        NaN         869        NaN  \n",
       "4        NaN         863        NaN  "
      ]
     },
     "execution_count": 12,
     "metadata": {},
     "output_type": "execute_result"
    }
   ],
   "source": [
    "df.head(5)"
   ]
  },
  {
   "cell_type": "markdown",
   "metadata": {},
   "source": [
    "conversionOrExcercisePrice: the conversion or excercise price of the transaction, if available"
   ]
  },
  {
   "cell_type": "markdown",
   "metadata": {},
   "source": [
    "### Save to CSV"
   ]
  },
  {
   "cell_type": "code",
   "execution_count": 13,
   "metadata": {},
   "outputs": [],
   "source": [
    "df.to_csv('iexCloud_InTran_111220.csv', index=False)"
   ]
  },
  {
   "cell_type": "code",
   "execution_count": null,
   "metadata": {},
   "outputs": [],
   "source": []
  }
 ],
 "metadata": {
  "kernelspec": {
   "display_name": "Python 3",
   "language": "python",
   "name": "python3"
  },
  "language_info": {
   "codemirror_mode": {
    "name": "ipython",
    "version": 3
   },
   "file_extension": ".py",
   "mimetype": "text/x-python",
   "name": "python",
   "nbconvert_exporter": "python",
   "pygments_lexer": "ipython3",
   "version": "3.7.9"
  }
 },
 "nbformat": 4,
 "nbformat_minor": 4
}
