{
 "cells": [
  {
   "cell_type": "markdown",
   "metadata": {},
   "source": [
    "## Crawling Data with API"
   ]
  },
  {
   "cell_type": "code",
   "execution_count": 1,
   "metadata": {},
   "outputs": [],
   "source": [
    "from requests import Request, Session\n",
    "from requests.exceptions import ConnectionError, Timeout, TooManyRedirects\n",
    "import json"
   ]
  },
  {
   "cell_type": "code",
   "execution_count": 2,
   "metadata": {},
   "outputs": [],
   "source": [
    "# using sandbox as it's only available for paid subscriptions\n",
    "url = 'https://sandbox.iexapis.com/stable/stock/AAPL/insider-transactions'"
   ]
  },
  {
   "cell_type": "code",
   "execution_count": 13,
   "metadata": {},
   "outputs": [],
   "source": [
    "parameters = {\n",
    "    'token': 'Tsk_83f2c0eee6bb4600b8d8f9936a5769f2'\n",
    "}\n",
    "headers = {\n",
    "    'Accepts': 'application/json'\n",
    "}"
   ]
  },
  {
   "cell_type": "code",
   "execution_count": 4,
   "metadata": {},
   "outputs": [],
   "source": [
    "session = Session()\n",
    "session.headers.update(headers)"
   ]
  },
  {
   "cell_type": "code",
   "execution_count": 5,
   "metadata": {},
   "outputs": [],
   "source": [
    "try:\n",
    "    response = session.get(url, params=parameters)\n",
    "    data = json.loads(response.text)\n",
    "except (ConnectionError, Timeout, TooManyRedirects) as e:\n",
    "    print(e)"
   ]
  },
  {
   "cell_type": "code",
   "execution_count": 6,
   "metadata": {},
   "outputs": [
    {
     "data": {
      "text/plain": [
       "33"
      ]
     },
     "execution_count": 6,
     "metadata": {},
     "output_type": "execute_result"
    }
   ],
   "source": [
    "len(data)"
   ]
  },
  {
   "cell_type": "code",
   "execution_count": 7,
   "metadata": {},
   "outputs": [],
   "source": [
    "import numpy as np\n",
    "import pandas as pd"
   ]
  },
  {
   "cell_type": "code",
   "execution_count": 8,
   "metadata": {
    "scrolled": true
   },
   "outputs": [],
   "source": [
    "df = pd.DataFrame(data)"
   ]
  },
  {
   "cell_type": "markdown",
   "metadata": {},
   "source": [
    "## Preprocessing Data"
   ]
  },
  {
   "cell_type": "markdown",
   "metadata": {},
   "source": [
    "Drop reportedTitle and fullName <br>\n",
    "Change effectiveData and updated from UNIX timestamp to datetime"
   ]
  },
  {
   "cell_type": "code",
   "execution_count": 9,
   "metadata": {},
   "outputs": [],
   "source": [
    "df = df.drop(columns=['reportedTitle', 'fullName'])\n",
    "df['effectiveDate'] = pd.to_datetime(df['effectiveDate'],unit='ms')\n",
    "df['updated'] = pd.to_datetime(df['updated'],unit='ms')"
   ]
  },
  {
   "cell_type": "code",
   "execution_count": 10,
   "metadata": {},
   "outputs": [],
   "source": [
    "df = df.drop(columns=['key'])"
   ]
  },
  {
   "cell_type": "markdown",
   "metadata": {},
   "source": [
    "### Describe Data"
   ]
  },
  {
   "cell_type": "code",
   "execution_count": 11,
   "metadata": {},
   "outputs": [
    {
     "data": {
      "text/html": [
       "<div>\n",
       "<style scoped>\n",
       "    .dataframe tbody tr th:only-of-type {\n",
       "        vertical-align: middle;\n",
       "    }\n",
       "\n",
       "    .dataframe tbody tr th {\n",
       "        vertical-align: top;\n",
       "    }\n",
       "\n",
       "    .dataframe thead th {\n",
       "        text-align: right;\n",
       "    }\n",
       "</style>\n",
       "<table border=\"1\" class=\"dataframe\">\n",
       "  <thead>\n",
       "    <tr style=\"text-align: right;\">\n",
       "      <th></th>\n",
       "      <th>conversionOrExercisePrice</th>\n",
       "      <th>directIndirect</th>\n",
       "      <th>effectiveDate</th>\n",
       "      <th>filingDate</th>\n",
       "      <th>is10b51</th>\n",
       "      <th>postShares</th>\n",
       "      <th>symbol</th>\n",
       "      <th>transactionCode</th>\n",
       "      <th>transactionDate</th>\n",
       "      <th>transactionPrice</th>\n",
       "      <th>transactionShares</th>\n",
       "      <th>transactionValue</th>\n",
       "      <th>id</th>\n",
       "      <th>subkey</th>\n",
       "      <th>updated</th>\n",
       "      <th>tranPrice</th>\n",
       "      <th>tranShares</th>\n",
       "      <th>tranValue</th>\n",
       "    </tr>\n",
       "  </thead>\n",
       "  <tbody>\n",
       "    <tr>\n",
       "      <th>0</th>\n",
       "      <td>NaN</td>\n",
       "      <td>D</td>\n",
       "      <td>2021-07-29 04:11:27.252</td>\n",
       "      <td>2019-12-27</td>\n",
       "      <td>False</td>\n",
       "      <td>890075</td>\n",
       "      <td>AAPL</td>\n",
       "      <td>G</td>\n",
       "      <td>2019-12-24</td>\n",
       "      <td>NaN</td>\n",
       "      <td>-7196</td>\n",
       "      <td>NaN</td>\n",
       "      <td>RSNDAITISCAETRNNO_IS</td>\n",
       "      <td>20332-0900200000001-</td>\n",
       "      <td>2021-03-11 05:15:59.760</td>\n",
       "      <td>NaN</td>\n",
       "      <td>-7099</td>\n",
       "      <td>NaN</td>\n",
       "    </tr>\n",
       "    <tr>\n",
       "      <th>1</th>\n",
       "      <td>NaN</td>\n",
       "      <td>D</td>\n",
       "      <td>2022-04-26 23:20:43.573</td>\n",
       "      <td>2020-01-22</td>\n",
       "      <td>False</td>\n",
       "      <td>0</td>\n",
       "      <td>AAPL</td>\n",
       "      <td>M</td>\n",
       "      <td>2020-01-21</td>\n",
       "      <td>NaN</td>\n",
       "      <td>1499</td>\n",
       "      <td>NaN</td>\n",
       "      <td>DNTSRCIASSAIRTINOEN_</td>\n",
       "      <td>0-30000102020003-923</td>\n",
       "      <td>2021-12-14 21:19:24.244</td>\n",
       "      <td>NaN</td>\n",
       "      <td>1495</td>\n",
       "      <td>NaN</td>\n",
       "    </tr>\n",
       "    <tr>\n",
       "      <th>2</th>\n",
       "      <td>NaN</td>\n",
       "      <td>D</td>\n",
       "      <td>2020-10-23 09:18:36.185</td>\n",
       "      <td>2020-02-18</td>\n",
       "      <td>False</td>\n",
       "      <td>883</td>\n",
       "      <td>AAPL</td>\n",
       "      <td>A</td>\n",
       "      <td>2020-02-22</td>\n",
       "      <td>NaN</td>\n",
       "      <td>887</td>\n",
       "      <td>NaN</td>\n",
       "      <td>SSATRCOID_ISTRNANNEI</td>\n",
       "      <td>02-3000009003500231-</td>\n",
       "      <td>2023-05-25 01:27:35.545</td>\n",
       "      <td>NaN</td>\n",
       "      <td>891</td>\n",
       "      <td>NaN</td>\n",
       "    </tr>\n",
       "    <tr>\n",
       "      <th>3</th>\n",
       "      <td>NaN</td>\n",
       "      <td>D</td>\n",
       "      <td>2022-06-17 15:24:57.943</td>\n",
       "      <td>2020-02-23</td>\n",
       "      <td>False</td>\n",
       "      <td>893</td>\n",
       "      <td>AAPL</td>\n",
       "      <td>A</td>\n",
       "      <td>2020-02-19</td>\n",
       "      <td>NaN</td>\n",
       "      <td>870</td>\n",
       "      <td>NaN</td>\n",
       "      <td>TSAIOINNTSRNCE_ISRDA</td>\n",
       "      <td>0201209030-002-30003</td>\n",
       "      <td>2023-04-08 22:40:40.154</td>\n",
       "      <td>NaN</td>\n",
       "      <td>894</td>\n",
       "      <td>NaN</td>\n",
       "    </tr>\n",
       "    <tr>\n",
       "      <th>4</th>\n",
       "      <td>NaN</td>\n",
       "      <td>D</td>\n",
       "      <td>2022-03-30 01:18:17.988</td>\n",
       "      <td>2020-02-15</td>\n",
       "      <td>False</td>\n",
       "      <td>876</td>\n",
       "      <td>AAPL</td>\n",
       "      <td>A</td>\n",
       "      <td>2020-02-17</td>\n",
       "      <td>NaN</td>\n",
       "      <td>868</td>\n",
       "      <td>NaN</td>\n",
       "      <td>NSCSART_ARSDENITNOII</td>\n",
       "      <td>92123300-000033-0000</td>\n",
       "      <td>2021-06-09 10:15:34.213</td>\n",
       "      <td>NaN</td>\n",
       "      <td>894</td>\n",
       "      <td>NaN</td>\n",
       "    </tr>\n",
       "  </tbody>\n",
       "</table>\n",
       "</div>"
      ],
      "text/plain": [
       "   conversionOrExercisePrice directIndirect           effectiveDate  \\\n",
       "0                        NaN              D 2021-07-29 04:11:27.252   \n",
       "1                        NaN              D 2022-04-26 23:20:43.573   \n",
       "2                        NaN              D 2020-10-23 09:18:36.185   \n",
       "3                        NaN              D 2022-06-17 15:24:57.943   \n",
       "4                        NaN              D 2022-03-30 01:18:17.988   \n",
       "\n",
       "   filingDate  is10b51  postShares symbol transactionCode transactionDate  \\\n",
       "0  2019-12-27    False      890075   AAPL               G      2019-12-24   \n",
       "1  2020-01-22    False           0   AAPL               M      2020-01-21   \n",
       "2  2020-02-18    False         883   AAPL               A      2020-02-22   \n",
       "3  2020-02-23    False         893   AAPL               A      2020-02-19   \n",
       "4  2020-02-15    False         876   AAPL               A      2020-02-17   \n",
       "\n",
       "   transactionPrice  transactionShares  transactionValue  \\\n",
       "0               NaN              -7196               NaN   \n",
       "1               NaN               1499               NaN   \n",
       "2               NaN                887               NaN   \n",
       "3               NaN                870               NaN   \n",
       "4               NaN                868               NaN   \n",
       "\n",
       "                     id                subkey                 updated  \\\n",
       "0  RSNDAITISCAETRNNO_IS  20332-0900200000001- 2021-03-11 05:15:59.760   \n",
       "1  DNTSRCIASSAIRTINOEN_  0-30000102020003-923 2021-12-14 21:19:24.244   \n",
       "2  SSATRCOID_ISTRNANNEI  02-3000009003500231- 2023-05-25 01:27:35.545   \n",
       "3  TSAIOINNTSRNCE_ISRDA  0201209030-002-30003 2023-04-08 22:40:40.154   \n",
       "4  NSCSART_ARSDENITNOII  92123300-000033-0000 2021-06-09 10:15:34.213   \n",
       "\n",
       "   tranPrice  tranShares  tranValue  \n",
       "0        NaN       -7099        NaN  \n",
       "1        NaN        1495        NaN  \n",
       "2        NaN         891        NaN  \n",
       "3        NaN         894        NaN  \n",
       "4        NaN         894        NaN  "
      ]
     },
     "execution_count": 11,
     "metadata": {},
     "output_type": "execute_result"
    }
   ],
   "source": [
    "df.head(5)"
   ]
  },
  {
   "cell_type": "markdown",
   "metadata": {},
   "source": [
    "conversionOrExcercisePrice: the conversion or excercise price of the transaction, if available"
   ]
  },
  {
   "cell_type": "markdown",
   "metadata": {},
   "source": [
    "### Save to CSV"
   ]
  },
  {
   "cell_type": "code",
   "execution_count": 12,
   "metadata": {},
   "outputs": [],
   "source": [
    "df.to_csv('iexCloud Sandbox InsiderTransactions Data.csv', index=False)"
   ]
  },
  {
   "cell_type": "code",
   "execution_count": null,
   "metadata": {},
   "outputs": [],
   "source": []
  }
 ],
 "metadata": {
  "kernelspec": {
   "display_name": "Python 3",
   "language": "python",
   "name": "python3"
  },
  "language_info": {
   "codemirror_mode": {
    "name": "ipython",
    "version": 3
   },
   "file_extension": ".py",
   "mimetype": "text/x-python",
   "name": "python",
   "nbconvert_exporter": "python",
   "pygments_lexer": "ipython3",
   "version": "3.7.9"
  }
 },
 "nbformat": 4,
 "nbformat_minor": 4
}
