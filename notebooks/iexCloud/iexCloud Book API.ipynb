{
 "cells": [
  {
   "cell_type": "markdown",
   "metadata": {},
   "source": [
    "## Crawling Data with API"
   ]
  },
  {
   "cell_type": "code",
   "execution_count": 10,
   "metadata": {},
   "outputs": [],
   "source": [
    "from requests import Request, Session\n",
    "from requests.exceptions import ConnectionError, Timeout, TooManyRedirects\n",
    "import json"
   ]
  },
  {
   "cell_type": "code",
   "execution_count": 11,
   "metadata": {},
   "outputs": [],
   "source": [
    "# using sandbox as it's only available for paid subscriptions\n",
    "url = 'https://cloud.iexapis.com/stable/stock/AAPL/book'"
   ]
  },
  {
   "cell_type": "code",
   "execution_count": 12,
   "metadata": {},
   "outputs": [],
   "source": [
    "parameters = {\n",
    "#     'token': 'Tsk_83f2c0eee6bb4600b8d8f9936a5769f2'\n",
    "    'token': 'sk_b8918e562940417ca9b6615a914b75bd'\n",
    "}\n",
    "headers = {\n",
    "    'Accepts': 'application/json'\n",
    "}"
   ]
  },
  {
   "cell_type": "code",
   "execution_count": 13,
   "metadata": {},
   "outputs": [],
   "source": [
    "session = Session()\n",
    "session.headers.update(headers)"
   ]
  },
  {
   "cell_type": "code",
   "execution_count": 18,
   "metadata": {},
   "outputs": [],
   "source": [
    "try:\n",
    "    response = session.get(url, params=parameters)\n",
    "    data = json.loads(response.text)\n",
    "except (ConnectionError, Timeout, TooManyRedirects) as e:\n",
    "    print(e)"
   ]
  },
  {
   "cell_type": "code",
   "execution_count": 19,
   "metadata": {},
   "outputs": [
    {
     "name": "stdout",
     "output_type": "stream",
     "text": [
      "{'quote': {'symbol': 'AAPL', 'companyName': 'Apple Inc', 'primaryExchange': 'NASDAQ/NGS (GLOBAL SELECT MARKET)', 'calculationPrice': 'close', 'open': 122.63, 'openTime': 1607956201618, 'openSource': 'official', 'close': 121.78, 'closeTime': 1607979601546, 'closeSource': 'official', 'high': 123.35, 'highTime': 1607979584312, 'highSource': '15 minute delayed price', 'low': 121.7, 'lowTime': 1607979595010, 'lowSource': 'IEX Last Trade', 'latestPrice': 121.78, 'latestSource': 'Close', 'latestTime': 'December 14, 2020', 'latestUpdate': 1607979601546, 'latestVolume': 79075988, 'iexRealtimePrice': 121.7, 'iexRealtimeSize': 22, 'iexLastUpdated': 1607979595010, 'delayedPrice': 121.8, 'delayedPriceTime': 1607979584290, 'oddLotDelayedPrice': 121.79, 'oddLotDelayedPriceTime': 1607979584212, 'extendedPrice': 121.86, 'extendedChange': 0.08, 'extendedChangePercent': 0.00066, 'extendedPriceTime': 1607993993567, 'previousClose': 122.41, 'previousVolume': 86939786, 'change': -0.63, 'changePercent': -0.00515, 'volume': 79075988, 'iexMarketPercent': 0.009762748712036326, 'iexVolume': 771999, 'avgTotalVolume': 92137123, 'iexBidPrice': 0, 'iexBidSize': 0, 'iexAskPrice': 0, 'iexAskSize': 0, 'iexOpen': 121.7, 'iexOpenTime': 1607979595010, 'iexClose': 121.7, 'iexCloseTime': 1607979595010, 'marketCap': 2070479447560, 'peRatio': 37.13, 'week52High': 133.95, 'week52Low': 55.74, 'ytdChange': 0.6766779866838681, 'lastTradeTime': 1607979595010, 'isUSMarketOpen': False}, 'bids': [], 'asks': [], 'trades': [{'price': 121.7, 'size': 22, 'tradeId': 1902619914, 'isISO': True, 'isOddLot': True, 'isOutsideRegularHours': False, 'isSinglePriceCross': False, 'isTradeThroughExempt': False, 'timestamp': 1607979595010}, {'price': 121.7, 'size': 36, 'tradeId': 1902617641, 'isISO': True, 'isOddLot': True, 'isOutsideRegularHours': False, 'isSinglePriceCross': False, 'isTradeThroughExempt': False, 'timestamp': 1607979595008}, {'price': 121.7, 'size': 33, 'tradeId': 1902613748, 'isISO': True, 'isOddLot': True, 'isOutsideRegularHours': False, 'isSinglePriceCross': False, 'isTradeThroughExempt': True, 'timestamp': 1607979595006}, {'price': 121.7, 'size': 68, 'tradeId': 1902613546, 'isISO': True, 'isOddLot': True, 'isOutsideRegularHours': False, 'isSinglePriceCross': False, 'isTradeThroughExempt': True, 'timestamp': 1607979595006}, {'price': 121.72, 'size': 300, 'tradeId': 1902083314, 'isISO': True, 'isOddLot': False, 'isOutsideRegularHours': False, 'isSinglePriceCross': False, 'isTradeThroughExempt': False, 'timestamp': 1607979593791}, {'price': 121.73, 'size': 100, 'tradeId': 1901979133, 'isISO': False, 'isOddLot': False, 'isOutsideRegularHours': False, 'isSinglePriceCross': False, 'isTradeThroughExempt': False, 'timestamp': 1607979593494}, {'price': 121.75, 'size': 42, 'tradeId': 1901715597, 'isISO': False, 'isOddLot': True, 'isOutsideRegularHours': False, 'isSinglePriceCross': False, 'isTradeThroughExempt': False, 'timestamp': 1607979592565}, {'price': 121.71, 'size': 9, 'tradeId': 1901046221, 'isISO': True, 'isOddLot': True, 'isOutsideRegularHours': False, 'isSinglePriceCross': False, 'isTradeThroughExempt': False, 'timestamp': 1607979591011}, {'price': 121.71, 'size': 9, 'tradeId': 1901022113, 'isISO': True, 'isOddLot': True, 'isOutsideRegularHours': False, 'isSinglePriceCross': False, 'isTradeThroughExempt': False, 'timestamp': 1607979590953}, {'price': 121.7, 'size': 1, 'tradeId': 1900975899, 'isISO': True, 'isOddLot': True, 'isOutsideRegularHours': False, 'isSinglePriceCross': False, 'isTradeThroughExempt': False, 'timestamp': 1607979590788}, {'price': 121.71, 'size': 300, 'tradeId': 1900910653, 'isISO': True, 'isOddLot': False, 'isOutsideRegularHours': False, 'isSinglePriceCross': False, 'isTradeThroughExempt': False, 'timestamp': 1607979590604}, {'price': 121.71, 'size': 100, 'tradeId': 1900870805, 'isISO': False, 'isOddLot': False, 'isOutsideRegularHours': False, 'isSinglePriceCross': False, 'isTradeThroughExempt': False, 'timestamp': 1607979590495}, {'price': 121.71, 'size': 100, 'tradeId': 1900869960, 'isISO': False, 'isOddLot': False, 'isOutsideRegularHours': False, 'isSinglePriceCross': False, 'isTradeThroughExempt': False, 'timestamp': 1607979590493}, {'price': 121.715, 'size': 33, 'tradeId': 1900531434, 'isISO': True, 'isOddLot': True, 'isOutsideRegularHours': False, 'isSinglePriceCross': False, 'isTradeThroughExempt': False, 'timestamp': 1607979590104}, {'price': 121.71, 'size': 204, 'tradeId': 1900459788, 'isISO': True, 'isOddLot': False, 'isOutsideRegularHours': False, 'isSinglePriceCross': False, 'isTradeThroughExempt': False, 'timestamp': 1607979590028}, {'price': 121.73, 'size': 100, 'tradeId': 1900392413, 'isISO': False, 'isOddLot': False, 'isOutsideRegularHours': False, 'isSinglePriceCross': False, 'isTradeThroughExempt': False, 'timestamp': 1607979589928}, {'price': 121.72, 'size': 300, 'tradeId': 1900289522, 'isISO': True, 'isOddLot': False, 'isOutsideRegularHours': False, 'isSinglePriceCross': False, 'isTradeThroughExempt': False, 'timestamp': 1607979589598}, {'price': 121.76, 'size': 100, 'tradeId': 1900127405, 'isISO': True, 'isOddLot': False, 'isOutsideRegularHours': False, 'isSinglePriceCross': False, 'isTradeThroughExempt': False, 'timestamp': 1607979589230}, {'price': 121.74, 'size': 2, 'tradeId': 1899970040, 'isISO': True, 'isOddLot': True, 'isOutsideRegularHours': False, 'isSinglePriceCross': False, 'isTradeThroughExempt': False, 'timestamp': 1607979588713}, {'price': 121.76, 'size': 100, 'tradeId': 1899393005, 'isISO': True, 'isOddLot': False, 'isOutsideRegularHours': False, 'isSinglePriceCross': False, 'isTradeThroughExempt': False, 'timestamp': 1607979586949}], 'systemEvent': {'systemEvent': 'C', 'timestamp': 1607983800000}}\n"
     ]
    }
   ],
   "source": [
    "print(data)"
   ]
  },
  {
   "cell_type": "code",
   "execution_count": 7,
   "metadata": {},
   "outputs": [
    {
     "data": {
      "text/plain": [
       "4"
      ]
     },
     "execution_count": 7,
     "metadata": {},
     "output_type": "execute_result"
    }
   ],
   "source": [
    "len(data)"
   ]
  },
  {
   "cell_type": "code",
   "execution_count": 8,
   "metadata": {},
   "outputs": [],
   "source": [
    "import numpy as np\n",
    "import pandas as pd"
   ]
  },
  {
   "cell_type": "code",
   "execution_count": 9,
   "metadata": {
    "scrolled": true
   },
   "outputs": [
    {
     "ename": "KeyError",
     "evalue": "'trades'",
     "output_type": "error",
     "traceback": [
      "\u001b[1;31m---------------------------------------------------------------------------\u001b[0m",
      "\u001b[1;31mKeyError\u001b[0m                                  Traceback (most recent call last)",
      "\u001b[1;32m<ipython-input-9-b9e5f88c7994>\u001b[0m in \u001b[0;36m<module>\u001b[1;34m\u001b[0m\n\u001b[0;32m      1\u001b[0m \u001b[0mbids\u001b[0m \u001b[1;33m=\u001b[0m \u001b[0mpd\u001b[0m\u001b[1;33m.\u001b[0m\u001b[0mDataFrame\u001b[0m\u001b[1;33m(\u001b[0m\u001b[0mdata\u001b[0m\u001b[1;33m[\u001b[0m\u001b[1;34m'bids'\u001b[0m\u001b[1;33m]\u001b[0m\u001b[1;33m)\u001b[0m\u001b[1;33m\u001b[0m\u001b[1;33m\u001b[0m\u001b[0m\n\u001b[0;32m      2\u001b[0m \u001b[0masks\u001b[0m \u001b[1;33m=\u001b[0m \u001b[0mpd\u001b[0m\u001b[1;33m.\u001b[0m\u001b[0mDataFrame\u001b[0m\u001b[1;33m(\u001b[0m\u001b[0mdata\u001b[0m\u001b[1;33m[\u001b[0m\u001b[1;34m'asks'\u001b[0m\u001b[1;33m]\u001b[0m\u001b[1;33m)\u001b[0m\u001b[1;33m\u001b[0m\u001b[1;33m\u001b[0m\u001b[0m\n\u001b[1;32m----> 3\u001b[1;33m \u001b[0mtrades\u001b[0m \u001b[1;33m=\u001b[0m \u001b[0mpd\u001b[0m\u001b[1;33m.\u001b[0m\u001b[0mDataFrame\u001b[0m\u001b[1;33m(\u001b[0m\u001b[0mdata\u001b[0m\u001b[1;33m[\u001b[0m\u001b[1;34m'trades'\u001b[0m\u001b[1;33m]\u001b[0m\u001b[1;33m)\u001b[0m\u001b[1;33m\u001b[0m\u001b[1;33m\u001b[0m\u001b[0m\n\u001b[0m",
      "\u001b[1;31mKeyError\u001b[0m: 'trades'"
     ]
    }
   ],
   "source": [
    "bids = pd.DataFrame(data['bids'])\n",
    "asks = pd.DataFrame(data['asks'])\n",
    "trades = pd.DataFrame(data['trades'])"
   ]
  },
  {
   "cell_type": "code",
   "execution_count": null,
   "metadata": {},
   "outputs": [],
   "source": [
    "print(len(bids), len(asks), len(trades))"
   ]
  },
  {
   "cell_type": "markdown",
   "metadata": {},
   "source": [
    "## Preprocessing Data"
   ]
  },
  {
   "cell_type": "code",
   "execution_count": 12,
   "metadata": {},
   "outputs": [],
   "source": [
    "# bids['date'] = pd.to_datetime(bids['timestamp'], unit='ms')\n",
    "# asks['date'] = pd.to_datetime(asks['timestamp'], unit='ms')\n",
    "trades['date'] = pd.to_datetime(trades['timestamp'], unit='ms')"
   ]
  },
  {
   "cell_type": "markdown",
   "metadata": {},
   "source": [
    "### Describe Data"
   ]
  },
  {
   "cell_type": "code",
   "execution_count": 13,
   "metadata": {},
   "outputs": [
    {
     "data": {
      "text/html": [
       "<div>\n",
       "<style scoped>\n",
       "    .dataframe tbody tr th:only-of-type {\n",
       "        vertical-align: middle;\n",
       "    }\n",
       "\n",
       "    .dataframe tbody tr th {\n",
       "        vertical-align: top;\n",
       "    }\n",
       "\n",
       "    .dataframe thead th {\n",
       "        text-align: right;\n",
       "    }\n",
       "</style>\n",
       "<table border=\"1\" class=\"dataframe\">\n",
       "  <thead>\n",
       "    <tr style=\"text-align: right;\">\n",
       "      <th></th>\n",
       "    </tr>\n",
       "  </thead>\n",
       "  <tbody>\n",
       "  </tbody>\n",
       "</table>\n",
       "</div>"
      ],
      "text/plain": [
       "Empty DataFrame\n",
       "Columns: []\n",
       "Index: []"
      ]
     },
     "execution_count": 13,
     "metadata": {},
     "output_type": "execute_result"
    }
   ],
   "source": [
    "bids"
   ]
  },
  {
   "cell_type": "code",
   "execution_count": 14,
   "metadata": {},
   "outputs": [
    {
     "data": {
      "text/html": [
       "<div>\n",
       "<style scoped>\n",
       "    .dataframe tbody tr th:only-of-type {\n",
       "        vertical-align: middle;\n",
       "    }\n",
       "\n",
       "    .dataframe tbody tr th {\n",
       "        vertical-align: top;\n",
       "    }\n",
       "\n",
       "    .dataframe thead th {\n",
       "        text-align: right;\n",
       "    }\n",
       "</style>\n",
       "<table border=\"1\" class=\"dataframe\">\n",
       "  <thead>\n",
       "    <tr style=\"text-align: right;\">\n",
       "      <th></th>\n",
       "    </tr>\n",
       "  </thead>\n",
       "  <tbody>\n",
       "  </tbody>\n",
       "</table>\n",
       "</div>"
      ],
      "text/plain": [
       "Empty DataFrame\n",
       "Columns: []\n",
       "Index: []"
      ]
     },
     "execution_count": 14,
     "metadata": {},
     "output_type": "execute_result"
    }
   ],
   "source": [
    "asks"
   ]
  },
  {
   "cell_type": "code",
   "execution_count": 15,
   "metadata": {},
   "outputs": [
    {
     "data": {
      "text/html": [
       "<div>\n",
       "<style scoped>\n",
       "    .dataframe tbody tr th:only-of-type {\n",
       "        vertical-align: middle;\n",
       "    }\n",
       "\n",
       "    .dataframe tbody tr th {\n",
       "        vertical-align: top;\n",
       "    }\n",
       "\n",
       "    .dataframe thead th {\n",
       "        text-align: right;\n",
       "    }\n",
       "</style>\n",
       "<table border=\"1\" class=\"dataframe\">\n",
       "  <thead>\n",
       "    <tr style=\"text-align: right;\">\n",
       "      <th></th>\n",
       "      <th>price</th>\n",
       "      <th>size</th>\n",
       "      <th>tradeId</th>\n",
       "      <th>isISO</th>\n",
       "      <th>isOddLot</th>\n",
       "      <th>isOutsideRegularHours</th>\n",
       "      <th>isSinglePriceCross</th>\n",
       "      <th>isTradeThroughExempt</th>\n",
       "      <th>timestamp</th>\n",
       "      <th>date</th>\n",
       "    </tr>\n",
       "  </thead>\n",
       "  <tbody>\n",
       "    <tr>\n",
       "      <th>0</th>\n",
       "      <td>122.41</td>\n",
       "      <td>100</td>\n",
       "      <td>1865481372</td>\n",
       "      <td>True</td>\n",
       "      <td>False</td>\n",
       "      <td>False</td>\n",
       "      <td>False</td>\n",
       "      <td>False</td>\n",
       "      <td>1607720397799</td>\n",
       "      <td>2020-12-11 20:59:57.799</td>\n",
       "    </tr>\n",
       "    <tr>\n",
       "      <th>1</th>\n",
       "      <td>122.29</td>\n",
       "      <td>1100</td>\n",
       "      <td>1864529704</td>\n",
       "      <td>False</td>\n",
       "      <td>False</td>\n",
       "      <td>False</td>\n",
       "      <td>False</td>\n",
       "      <td>False</td>\n",
       "      <td>1607720395364</td>\n",
       "      <td>2020-12-11 20:59:55.364</td>\n",
       "    </tr>\n",
       "    <tr>\n",
       "      <th>2</th>\n",
       "      <td>122.31</td>\n",
       "      <td>200</td>\n",
       "      <td>1861853424</td>\n",
       "      <td>False</td>\n",
       "      <td>False</td>\n",
       "      <td>False</td>\n",
       "      <td>False</td>\n",
       "      <td>False</td>\n",
       "      <td>1607720388355</td>\n",
       "      <td>2020-12-11 20:59:48.355</td>\n",
       "    </tr>\n",
       "    <tr>\n",
       "      <th>3</th>\n",
       "      <td>122.29</td>\n",
       "      <td>5</td>\n",
       "      <td>1861796795</td>\n",
       "      <td>True</td>\n",
       "      <td>True</td>\n",
       "      <td>False</td>\n",
       "      <td>False</td>\n",
       "      <td>False</td>\n",
       "      <td>1607720388156</td>\n",
       "      <td>2020-12-11 20:59:48.156</td>\n",
       "    </tr>\n",
       "    <tr>\n",
       "      <th>4</th>\n",
       "      <td>122.30</td>\n",
       "      <td>138</td>\n",
       "      <td>1861737675</td>\n",
       "      <td>True</td>\n",
       "      <td>False</td>\n",
       "      <td>False</td>\n",
       "      <td>False</td>\n",
       "      <td>False</td>\n",
       "      <td>1607720388071</td>\n",
       "      <td>2020-12-11 20:59:48.071</td>\n",
       "    </tr>\n",
       "    <tr>\n",
       "      <th>5</th>\n",
       "      <td>122.30</td>\n",
       "      <td>22</td>\n",
       "      <td>1861431572</td>\n",
       "      <td>True</td>\n",
       "      <td>True</td>\n",
       "      <td>False</td>\n",
       "      <td>False</td>\n",
       "      <td>False</td>\n",
       "      <td>1607720387013</td>\n",
       "      <td>2020-12-11 20:59:47.013</td>\n",
       "    </tr>\n",
       "    <tr>\n",
       "      <th>6</th>\n",
       "      <td>122.29</td>\n",
       "      <td>25</td>\n",
       "      <td>1861343018</td>\n",
       "      <td>True</td>\n",
       "      <td>True</td>\n",
       "      <td>False</td>\n",
       "      <td>False</td>\n",
       "      <td>False</td>\n",
       "      <td>1607720386668</td>\n",
       "      <td>2020-12-11 20:59:46.668</td>\n",
       "    </tr>\n",
       "    <tr>\n",
       "      <th>7</th>\n",
       "      <td>122.36</td>\n",
       "      <td>300</td>\n",
       "      <td>1860645880</td>\n",
       "      <td>True</td>\n",
       "      <td>False</td>\n",
       "      <td>False</td>\n",
       "      <td>False</td>\n",
       "      <td>False</td>\n",
       "      <td>1607720385111</td>\n",
       "      <td>2020-12-11 20:59:45.111</td>\n",
       "    </tr>\n",
       "    <tr>\n",
       "      <th>8</th>\n",
       "      <td>122.39</td>\n",
       "      <td>300</td>\n",
       "      <td>1860154507</td>\n",
       "      <td>True</td>\n",
       "      <td>False</td>\n",
       "      <td>False</td>\n",
       "      <td>False</td>\n",
       "      <td>False</td>\n",
       "      <td>1607720383612</td>\n",
       "      <td>2020-12-11 20:59:43.612</td>\n",
       "    </tr>\n",
       "    <tr>\n",
       "      <th>9</th>\n",
       "      <td>122.41</td>\n",
       "      <td>80</td>\n",
       "      <td>1860000793</td>\n",
       "      <td>False</td>\n",
       "      <td>True</td>\n",
       "      <td>False</td>\n",
       "      <td>False</td>\n",
       "      <td>False</td>\n",
       "      <td>1607720383387</td>\n",
       "      <td>2020-12-11 20:59:43.387</td>\n",
       "    </tr>\n",
       "    <tr>\n",
       "      <th>10</th>\n",
       "      <td>122.41</td>\n",
       "      <td>9</td>\n",
       "      <td>1859998514</td>\n",
       "      <td>True</td>\n",
       "      <td>True</td>\n",
       "      <td>False</td>\n",
       "      <td>False</td>\n",
       "      <td>False</td>\n",
       "      <td>1607720383377</td>\n",
       "      <td>2020-12-11 20:59:43.377</td>\n",
       "    </tr>\n",
       "    <tr>\n",
       "      <th>11</th>\n",
       "      <td>122.40</td>\n",
       "      <td>199</td>\n",
       "      <td>1859951526</td>\n",
       "      <td>True</td>\n",
       "      <td>False</td>\n",
       "      <td>False</td>\n",
       "      <td>False</td>\n",
       "      <td>False</td>\n",
       "      <td>1607720383220</td>\n",
       "      <td>2020-12-11 20:59:43.220</td>\n",
       "    </tr>\n",
       "    <tr>\n",
       "      <th>12</th>\n",
       "      <td>122.40</td>\n",
       "      <td>300</td>\n",
       "      <td>1859635744</td>\n",
       "      <td>True</td>\n",
       "      <td>False</td>\n",
       "      <td>False</td>\n",
       "      <td>False</td>\n",
       "      <td>False</td>\n",
       "      <td>1607720382248</td>\n",
       "      <td>2020-12-11 20:59:42.248</td>\n",
       "    </tr>\n",
       "    <tr>\n",
       "      <th>13</th>\n",
       "      <td>122.39</td>\n",
       "      <td>274</td>\n",
       "      <td>1859171731</td>\n",
       "      <td>True</td>\n",
       "      <td>False</td>\n",
       "      <td>False</td>\n",
       "      <td>False</td>\n",
       "      <td>False</td>\n",
       "      <td>1607720380941</td>\n",
       "      <td>2020-12-11 20:59:40.941</td>\n",
       "    </tr>\n",
       "    <tr>\n",
       "      <th>14</th>\n",
       "      <td>122.39</td>\n",
       "      <td>300</td>\n",
       "      <td>1859165195</td>\n",
       "      <td>True</td>\n",
       "      <td>False</td>\n",
       "      <td>False</td>\n",
       "      <td>False</td>\n",
       "      <td>True</td>\n",
       "      <td>1607720380937</td>\n",
       "      <td>2020-12-11 20:59:40.937</td>\n",
       "    </tr>\n",
       "    <tr>\n",
       "      <th>15</th>\n",
       "      <td>122.40</td>\n",
       "      <td>300</td>\n",
       "      <td>1859111478</td>\n",
       "      <td>True</td>\n",
       "      <td>False</td>\n",
       "      <td>False</td>\n",
       "      <td>False</td>\n",
       "      <td>False</td>\n",
       "      <td>1607720380826</td>\n",
       "      <td>2020-12-11 20:59:40.826</td>\n",
       "    </tr>\n",
       "    <tr>\n",
       "      <th>16</th>\n",
       "      <td>122.32</td>\n",
       "      <td>1000</td>\n",
       "      <td>1858683264</td>\n",
       "      <td>False</td>\n",
       "      <td>False</td>\n",
       "      <td>False</td>\n",
       "      <td>False</td>\n",
       "      <td>False</td>\n",
       "      <td>1607720379695</td>\n",
       "      <td>2020-12-11 20:59:39.695</td>\n",
       "    </tr>\n",
       "    <tr>\n",
       "      <th>17</th>\n",
       "      <td>122.32</td>\n",
       "      <td>100</td>\n",
       "      <td>1858683250</td>\n",
       "      <td>False</td>\n",
       "      <td>False</td>\n",
       "      <td>False</td>\n",
       "      <td>False</td>\n",
       "      <td>False</td>\n",
       "      <td>1607720379695</td>\n",
       "      <td>2020-12-11 20:59:39.695</td>\n",
       "    </tr>\n",
       "    <tr>\n",
       "      <th>18</th>\n",
       "      <td>122.32</td>\n",
       "      <td>300</td>\n",
       "      <td>1858683229</td>\n",
       "      <td>False</td>\n",
       "      <td>False</td>\n",
       "      <td>False</td>\n",
       "      <td>False</td>\n",
       "      <td>False</td>\n",
       "      <td>1607720379695</td>\n",
       "      <td>2020-12-11 20:59:39.695</td>\n",
       "    </tr>\n",
       "    <tr>\n",
       "      <th>19</th>\n",
       "      <td>122.34</td>\n",
       "      <td>300</td>\n",
       "      <td>1858414155</td>\n",
       "      <td>True</td>\n",
       "      <td>False</td>\n",
       "      <td>False</td>\n",
       "      <td>False</td>\n",
       "      <td>False</td>\n",
       "      <td>1607720378830</td>\n",
       "      <td>2020-12-11 20:59:38.830</td>\n",
       "    </tr>\n",
       "  </tbody>\n",
       "</table>\n",
       "</div>"
      ],
      "text/plain": [
       "     price  size     tradeId  isISO  isOddLot  isOutsideRegularHours  \\\n",
       "0   122.41   100  1865481372   True     False                  False   \n",
       "1   122.29  1100  1864529704  False     False                  False   \n",
       "2   122.31   200  1861853424  False     False                  False   \n",
       "3   122.29     5  1861796795   True      True                  False   \n",
       "4   122.30   138  1861737675   True     False                  False   \n",
       "5   122.30    22  1861431572   True      True                  False   \n",
       "6   122.29    25  1861343018   True      True                  False   \n",
       "7   122.36   300  1860645880   True     False                  False   \n",
       "8   122.39   300  1860154507   True     False                  False   \n",
       "9   122.41    80  1860000793  False      True                  False   \n",
       "10  122.41     9  1859998514   True      True                  False   \n",
       "11  122.40   199  1859951526   True     False                  False   \n",
       "12  122.40   300  1859635744   True     False                  False   \n",
       "13  122.39   274  1859171731   True     False                  False   \n",
       "14  122.39   300  1859165195   True     False                  False   \n",
       "15  122.40   300  1859111478   True     False                  False   \n",
       "16  122.32  1000  1858683264  False     False                  False   \n",
       "17  122.32   100  1858683250  False     False                  False   \n",
       "18  122.32   300  1858683229  False     False                  False   \n",
       "19  122.34   300  1858414155   True     False                  False   \n",
       "\n",
       "    isSinglePriceCross  isTradeThroughExempt      timestamp  \\\n",
       "0                False                 False  1607720397799   \n",
       "1                False                 False  1607720395364   \n",
       "2                False                 False  1607720388355   \n",
       "3                False                 False  1607720388156   \n",
       "4                False                 False  1607720388071   \n",
       "5                False                 False  1607720387013   \n",
       "6                False                 False  1607720386668   \n",
       "7                False                 False  1607720385111   \n",
       "8                False                 False  1607720383612   \n",
       "9                False                 False  1607720383387   \n",
       "10               False                 False  1607720383377   \n",
       "11               False                 False  1607720383220   \n",
       "12               False                 False  1607720382248   \n",
       "13               False                 False  1607720380941   \n",
       "14               False                  True  1607720380937   \n",
       "15               False                 False  1607720380826   \n",
       "16               False                 False  1607720379695   \n",
       "17               False                 False  1607720379695   \n",
       "18               False                 False  1607720379695   \n",
       "19               False                 False  1607720378830   \n",
       "\n",
       "                      date  \n",
       "0  2020-12-11 20:59:57.799  \n",
       "1  2020-12-11 20:59:55.364  \n",
       "2  2020-12-11 20:59:48.355  \n",
       "3  2020-12-11 20:59:48.156  \n",
       "4  2020-12-11 20:59:48.071  \n",
       "5  2020-12-11 20:59:47.013  \n",
       "6  2020-12-11 20:59:46.668  \n",
       "7  2020-12-11 20:59:45.111  \n",
       "8  2020-12-11 20:59:43.612  \n",
       "9  2020-12-11 20:59:43.387  \n",
       "10 2020-12-11 20:59:43.377  \n",
       "11 2020-12-11 20:59:43.220  \n",
       "12 2020-12-11 20:59:42.248  \n",
       "13 2020-12-11 20:59:40.941  \n",
       "14 2020-12-11 20:59:40.937  \n",
       "15 2020-12-11 20:59:40.826  \n",
       "16 2020-12-11 20:59:39.695  \n",
       "17 2020-12-11 20:59:39.695  \n",
       "18 2020-12-11 20:59:39.695  \n",
       "19 2020-12-11 20:59:38.830  "
      ]
     },
     "execution_count": 15,
     "metadata": {},
     "output_type": "execute_result"
    }
   ],
   "source": [
    "trades"
   ]
  },
  {
   "cell_type": "markdown",
   "metadata": {},
   "source": [
    "### Save to CSV"
   ]
  },
  {
   "cell_type": "code",
   "execution_count": 16,
   "metadata": {},
   "outputs": [],
   "source": [
    "bids.to_csv('bids/1.csv')\n",
    "asks.to_csv('asks/1.csv')\n",
    "trades.to_csv('trades/1.csv')"
   ]
  },
  {
   "cell_type": "markdown",
   "metadata": {},
   "source": [
    "### Plot data"
   ]
  },
  {
   "cell_type": "code",
   "execution_count": 33,
   "metadata": {},
   "outputs": [],
   "source": [
    "import matplotlib.pyplot as plt"
   ]
  },
  {
   "cell_type": "code",
   "execution_count": 74,
   "metadata": {},
   "outputs": [],
   "source": [
    "trades = trades.sort_values('timestamp')"
   ]
  },
  {
   "cell_type": "code",
   "execution_count": 75,
   "metadata": {},
   "outputs": [],
   "source": [
    "asks = asks.sort_values('timestamp')"
   ]
  },
  {
   "cell_type": "code",
   "execution_count": 76,
   "metadata": {},
   "outputs": [],
   "source": [
    "bids = bids.sort_values('timestamp')"
   ]
  },
  {
   "cell_type": "code",
   "execution_count": 91,
   "metadata": {},
   "outputs": [
    {
     "data": {
      "image/png": "[encoded data removed]",
      "text/plain": [
       "<Figure size 720x720 with 1 Axes>"
      ]
     },
     "metadata": {
      "needs_background": "light"
     },
     "output_type": "display_data"
    },
    {
     "data": {
      "image/png": "[encoded data removed]",
      "text/plain": [
       "<Figure size 432x288 with 1 Axes>"
      ]
     },
     "metadata": {
      "needs_background": "light"
     },
     "output_type": "display_data"
    }
   ],
   "source": [
    "fig = plt.figure(num=2,figsize=(10,10))\n",
    "plt.plot(trades['date'], trades['price'],'b')\n",
    "plt.xlabel('Timestamp')\n",
    "plt.ylabel('Price')\n",
    "plt.show()\n",
    "plt.plot(bids['date'], bids['price'],'r')\n",
    "plt.plot(asks['date'], asks['price'],'g')\n",
    "plt.xlabel('Timestamp')\n",
    "plt.ylabel('Price')\n",
    "plt.show()"
   ]
  }
 ],
 "metadata": {
  "kernelspec": {
   "display_name": "Python 3",
   "language": "python",
   "name": "python3"
  },
  "language_info": {
   "codemirror_mode": {
    "name": "ipython",
    "version": 3
   },
   "file_extension": ".py",
   "mimetype": "text/x-python",
   "name": "python",
   "nbconvert_exporter": "python",
   "pygments_lexer": "ipython3",
   "version": "3.7.9"
  }
 },
 "nbformat": 4,
 "nbformat_minor": 4
}
