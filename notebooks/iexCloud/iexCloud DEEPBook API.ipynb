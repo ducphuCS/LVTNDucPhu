{
 "cells": [
  {
   "cell_type": "markdown",
   "metadata": {},
   "source": [
    "# Crawling Data"
   ]
  },
  {
   "cell_type": "code",
   "execution_count": 12,
   "metadata": {},
   "outputs": [],
   "source": [
    "from requests import Request, Session\n",
    "from requests.exceptions import ConnectionError, Timeout, TooManyRedirects\n",
    "import json"
   ]
  },
  {
   "cell_type": "code",
   "execution_count": 13,
   "metadata": {},
   "outputs": [],
   "source": [
    "# sandbox url\n",
    "url = 'https://cloud.iexapis.com/stable/deep/book?'"
   ]
  },
  {
   "cell_type": "code",
   "execution_count": 14,
   "metadata": {},
   "outputs": [],
   "source": [
    "parameters = {\n",
    "    'symbols': 'aapl',\n",
    "#     'token': 'Tsk_83f2c0eee6bb4600b8d8f9936a5769f2'\n",
    "    'token': 'sk_b8918e562940417ca9b6615a914b75bd'\n",
    "}\n",
    "headers = {\n",
    "    'Accept': 'application/json'\n",
    "}"
   ]
  },
  {
   "cell_type": "code",
   "execution_count": 15,
   "metadata": {},
   "outputs": [],
   "source": [
    "session = Session()\n",
    "session.headers.update(headers)"
   ]
  },
  {
   "cell_type": "code",
   "execution_count": 16,
   "metadata": {},
   "outputs": [],
   "source": [
    "try:\n",
    "    response = session.get(url, params=parameters)\n",
    "    data = response.text\n",
    "except (ConnectionError, Timeout, TooManyRedirects) as e:\n",
    "    print(e)"
   ]
  },
  {
   "cell_type": "code",
   "execution_count": 17,
   "metadata": {},
   "outputs": [],
   "source": [
    "data = json.loads(data)"
   ]
  },
  {
   "cell_type": "code",
   "execution_count": 19,
   "metadata": {},
   "outputs": [
    {
     "name": "stdout",
     "output_type": "stream",
     "text": [
      "{'AAPL': {'bids': [{'price': 120.98, 'size': 100, 'timestamp': 1607706686534}, {'price': 120.38, 'size': 800, 'timestamp': 1607698121646}, {'price': 120, 'size': 400, 'timestamp': 1607700761313}, {'price': 119.8, 'size': 100, 'timestamp': 1607698127672}, {'price': 119, 'size': 200, 'timestamp': 1607697008608}, {'price': 118.31, 'size': 100, 'timestamp': 1607697629369}, {'price': 117, 'size': 100, 'timestamp': 1607697008442}, {'price': 115, 'size': 200, 'timestamp': 1607697016229}, {'price': 114.39, 'size': 80000, 'timestamp': 1607700761302}, {'price': 110.5, 'size': 100, 'timestamp': 1607697008372}, {'price': 110, 'size': 100, 'timestamp': 1607700666654}, {'price': 109, 'size': 100, 'timestamp': 1607697016237}, {'price': 108, 'size': 100, 'timestamp': 1607697008398}, {'price': 107, 'size': 100, 'timestamp': 1607697016217}, {'price': 106, 'size': 100, 'timestamp': 1607697008333}, {'price': 105, 'size': 100, 'timestamp': 1607697016210}, {'price': 101, 'size': 100, 'timestamp': 1607697059589}, {'price': 100.79, 'size': 495, 'timestamp': 1607700761283}, {'price': 100, 'size': 100, 'timestamp': 1607697059532}, {'price': 97, 'size': 100, 'timestamp': 1607697059560}, {'price': 87, 'size': 1000, 'timestamp': 1607700761276}, {'price': 85.46, 'size': 100, 'timestamp': 1607697000955}, {'price': 78, 'size': 100, 'timestamp': 1607697008451}, {'price': 75.31, 'size': 200, 'timestamp': 1607697000955}, {'price': 52.99, 'size': 600, 'timestamp': 1607697000955}, {'price': 51.06, 'size': 100, 'timestamp': 1607697008401}], 'asks': [{'price': 123, 'size': 700, 'timestamp': 1607697016230}, {'price': 123.24, 'size': 300, 'timestamp': 1607697089373}, {'price': 124, 'size': 300, 'timestamp': 1607697015554}, {'price': 125, 'size': 900, 'timestamp': 1607697015467}, {'price': 126, 'size': 1100, 'timestamp': 1607697015434}, {'price': 126.2, 'size': 300, 'timestamp': 1607697015460}, {'price': 126.32, 'size': 100, 'timestamp': 1607700761270}, {'price': 127, 'size': 700, 'timestamp': 1607697015493}, {'price': 127.5, 'size': 200, 'timestamp': 1607697015458}, {'price': 128, 'size': 200, 'timestamp': 1607697016198}, {'price': 128.62, 'size': 200, 'timestamp': 1607697015517}, {'price': 128.8, 'size': 100, 'timestamp': 1607697015510}, {'price': 129, 'size': 700, 'timestamp': 1607697015500}, {'price': 129.2, 'size': 100, 'timestamp': 1607697015459}, {'price': 129.92, 'size': 100, 'timestamp': 1607697015511}, {'price': 130, 'size': 200, 'timestamp': 1607697016239}, {'price': 132, 'size': 200, 'timestamp': 1607697016218}, {'price': 137, 'size': 100, 'timestamp': 1607697008465}, {'price': 140, 'size': 100, 'timestamp': 1607699971862}, {'price': 143, 'size': 100, 'timestamp': 1607697016222}, {'price': 148, 'size': 200, 'timestamp': 1607697008620}]}}\n"
     ]
    }
   ],
   "source": [
    "print(data)"
   ]
  },
  {
   "cell_type": "code",
   "execution_count": 20,
   "metadata": {},
   "outputs": [],
   "source": [
    "data = data['AAPL']"
   ]
  },
  {
   "cell_type": "code",
   "execution_count": 21,
   "metadata": {},
   "outputs": [
    {
     "data": {
      "text/plain": [
       "2"
      ]
     },
     "execution_count": 21,
     "metadata": {},
     "output_type": "execute_result"
    }
   ],
   "source": [
    "len(data)"
   ]
  },
  {
   "cell_type": "code",
   "execution_count": 22,
   "metadata": {},
   "outputs": [],
   "source": [
    "bids = data['bids']\n",
    "asks = data['asks']"
   ]
  },
  {
   "cell_type": "code",
   "execution_count": 26,
   "metadata": {},
   "outputs": [],
   "source": [
    "import pandas as pd\n",
    "import numpy as np"
   ]
  },
  {
   "cell_type": "code",
   "execution_count": 27,
   "metadata": {},
   "outputs": [],
   "source": [
    "bids = pd.DataFrame(bids)"
   ]
  },
  {
   "cell_type": "code",
   "execution_count": 28,
   "metadata": {},
   "outputs": [],
   "source": [
    "asks = pd.DataFrame(asks)"
   ]
  },
  {
   "cell_type": "code",
   "execution_count": 33,
   "metadata": {},
   "outputs": [
    {
     "data": {
      "text/html": [
       "<div>\n",
       "<style scoped>\n",
       "    .dataframe tbody tr th:only-of-type {\n",
       "        vertical-align: middle;\n",
       "    }\n",
       "\n",
       "    .dataframe tbody tr th {\n",
       "        vertical-align: top;\n",
       "    }\n",
       "\n",
       "    .dataframe thead th {\n",
       "        text-align: right;\n",
       "    }\n",
       "</style>\n",
       "<table border=\"1\" class=\"dataframe\">\n",
       "  <thead>\n",
       "    <tr style=\"text-align: right;\">\n",
       "      <th></th>\n",
       "      <th>price</th>\n",
       "      <th>size</th>\n",
       "      <th>timestamp</th>\n",
       "    </tr>\n",
       "  </thead>\n",
       "  <tbody>\n",
       "    <tr>\n",
       "      <th>23</th>\n",
       "      <td>75.31</td>\n",
       "      <td>200</td>\n",
       "      <td>1607697000955</td>\n",
       "    </tr>\n",
       "    <tr>\n",
       "      <th>21</th>\n",
       "      <td>85.46</td>\n",
       "      <td>100</td>\n",
       "      <td>1607697000955</td>\n",
       "    </tr>\n",
       "    <tr>\n",
       "      <th>24</th>\n",
       "      <td>52.99</td>\n",
       "      <td>600</td>\n",
       "      <td>1607697000955</td>\n",
       "    </tr>\n",
       "    <tr>\n",
       "      <th>14</th>\n",
       "      <td>106.00</td>\n",
       "      <td>100</td>\n",
       "      <td>1607697008333</td>\n",
       "    </tr>\n",
       "    <tr>\n",
       "      <th>9</th>\n",
       "      <td>110.50</td>\n",
       "      <td>100</td>\n",
       "      <td>1607697008372</td>\n",
       "    </tr>\n",
       "    <tr>\n",
       "      <th>12</th>\n",
       "      <td>108.00</td>\n",
       "      <td>100</td>\n",
       "      <td>1607697008398</td>\n",
       "    </tr>\n",
       "    <tr>\n",
       "      <th>25</th>\n",
       "      <td>51.06</td>\n",
       "      <td>100</td>\n",
       "      <td>1607697008401</td>\n",
       "    </tr>\n",
       "    <tr>\n",
       "      <th>6</th>\n",
       "      <td>117.00</td>\n",
       "      <td>100</td>\n",
       "      <td>1607697008442</td>\n",
       "    </tr>\n",
       "    <tr>\n",
       "      <th>22</th>\n",
       "      <td>78.00</td>\n",
       "      <td>100</td>\n",
       "      <td>1607697008451</td>\n",
       "    </tr>\n",
       "    <tr>\n",
       "      <th>4</th>\n",
       "      <td>119.00</td>\n",
       "      <td>200</td>\n",
       "      <td>1607697008608</td>\n",
       "    </tr>\n",
       "    <tr>\n",
       "      <th>15</th>\n",
       "      <td>105.00</td>\n",
       "      <td>100</td>\n",
       "      <td>1607697016210</td>\n",
       "    </tr>\n",
       "    <tr>\n",
       "      <th>13</th>\n",
       "      <td>107.00</td>\n",
       "      <td>100</td>\n",
       "      <td>1607697016217</td>\n",
       "    </tr>\n",
       "    <tr>\n",
       "      <th>7</th>\n",
       "      <td>115.00</td>\n",
       "      <td>200</td>\n",
       "      <td>1607697016229</td>\n",
       "    </tr>\n",
       "    <tr>\n",
       "      <th>11</th>\n",
       "      <td>109.00</td>\n",
       "      <td>100</td>\n",
       "      <td>1607697016237</td>\n",
       "    </tr>\n",
       "    <tr>\n",
       "      <th>18</th>\n",
       "      <td>100.00</td>\n",
       "      <td>100</td>\n",
       "      <td>1607697059532</td>\n",
       "    </tr>\n",
       "    <tr>\n",
       "      <th>19</th>\n",
       "      <td>97.00</td>\n",
       "      <td>100</td>\n",
       "      <td>1607697059560</td>\n",
       "    </tr>\n",
       "    <tr>\n",
       "      <th>16</th>\n",
       "      <td>101.00</td>\n",
       "      <td>100</td>\n",
       "      <td>1607697059589</td>\n",
       "    </tr>\n",
       "    <tr>\n",
       "      <th>5</th>\n",
       "      <td>118.31</td>\n",
       "      <td>100</td>\n",
       "      <td>1607697629369</td>\n",
       "    </tr>\n",
       "    <tr>\n",
       "      <th>1</th>\n",
       "      <td>120.38</td>\n",
       "      <td>800</td>\n",
       "      <td>1607698121646</td>\n",
       "    </tr>\n",
       "    <tr>\n",
       "      <th>3</th>\n",
       "      <td>119.80</td>\n",
       "      <td>100</td>\n",
       "      <td>1607698127672</td>\n",
       "    </tr>\n",
       "    <tr>\n",
       "      <th>10</th>\n",
       "      <td>110.00</td>\n",
       "      <td>100</td>\n",
       "      <td>1607700666654</td>\n",
       "    </tr>\n",
       "    <tr>\n",
       "      <th>20</th>\n",
       "      <td>87.00</td>\n",
       "      <td>1000</td>\n",
       "      <td>1607700761276</td>\n",
       "    </tr>\n",
       "    <tr>\n",
       "      <th>17</th>\n",
       "      <td>100.79</td>\n",
       "      <td>495</td>\n",
       "      <td>1607700761283</td>\n",
       "    </tr>\n",
       "    <tr>\n",
       "      <th>8</th>\n",
       "      <td>114.39</td>\n",
       "      <td>80000</td>\n",
       "      <td>1607700761302</td>\n",
       "    </tr>\n",
       "    <tr>\n",
       "      <th>2</th>\n",
       "      <td>120.00</td>\n",
       "      <td>400</td>\n",
       "      <td>1607700761313</td>\n",
       "    </tr>\n",
       "    <tr>\n",
       "      <th>0</th>\n",
       "      <td>120.98</td>\n",
       "      <td>100</td>\n",
       "      <td>1607706686534</td>\n",
       "    </tr>\n",
       "  </tbody>\n",
       "</table>\n",
       "</div>"
      ],
      "text/plain": [
       "     price   size      timestamp\n",
       "23   75.31    200  1607697000955\n",
       "21   85.46    100  1607697000955\n",
       "24   52.99    600  1607697000955\n",
       "14  106.00    100  1607697008333\n",
       "9   110.50    100  1607697008372\n",
       "12  108.00    100  1607697008398\n",
       "25   51.06    100  1607697008401\n",
       "6   117.00    100  1607697008442\n",
       "22   78.00    100  1607697008451\n",
       "4   119.00    200  1607697008608\n",
       "15  105.00    100  1607697016210\n",
       "13  107.00    100  1607697016217\n",
       "7   115.00    200  1607697016229\n",
       "11  109.00    100  1607697016237\n",
       "18  100.00    100  1607697059532\n",
       "19   97.00    100  1607697059560\n",
       "16  101.00    100  1607697059589\n",
       "5   118.31    100  1607697629369\n",
       "1   120.38    800  1607698121646\n",
       "3   119.80    100  1607698127672\n",
       "10  110.00    100  1607700666654\n",
       "20   87.00   1000  1607700761276\n",
       "17  100.79    495  1607700761283\n",
       "8   114.39  80000  1607700761302\n",
       "2   120.00    400  1607700761313\n",
       "0   120.98    100  1607706686534"
      ]
     },
     "execution_count": 33,
     "metadata": {},
     "output_type": "execute_result"
    }
   ],
   "source": [
    "bids.sort_values('timestamp')"
   ]
  },
  {
   "cell_type": "code",
   "execution_count": null,
   "metadata": {},
   "outputs": [],
   "source": []
  }
 ],
 "metadata": {
  "kernelspec": {
   "display_name": "Python 3",
   "language": "python",
   "name": "python3"
  },
  "language_info": {
   "codemirror_mode": {
    "name": "ipython",
    "version": 3
   },
   "file_extension": ".py",
   "mimetype": "text/x-python",
   "name": "python",
   "nbconvert_exporter": "python",
   "pygments_lexer": "ipython3",
   "version": "3.7.9"
  }
 },
 "nbformat": 4,
 "nbformat_minor": 4
}
