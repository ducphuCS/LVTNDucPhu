{
 "cells": [
  {
   "cell_type": "code",
   "execution_count": 8,
   "metadata": {},
   "outputs": [],
   "source": [
    "import json\n",
    "import numpy as np\n",
    "import pandas as pd\n",
    "import glob\n",
    "import os"
   ]
  },
  {
   "cell_type": "code",
   "execution_count": 35,
   "metadata": {},
   "outputs": [],
   "source": [
    "asks_data = pd.DataFrame(columns=['price', 'size', 'timestamp'])\n",
    "bids_data = pd.DataFrame(columns=['price', 'size', 'timestamp'])\n",
    "trades_data = pd.DataFrame(columns=['price', 'size', 'timestamp'])"
   ]
  },
  {
   "cell_type": "code",
   "execution_count": 100,
   "metadata": {},
   "outputs": [
    {
     "name": "stdout",
     "output_type": "stream",
     "text": [
      "(5474, 3) (2151, 3) (1320, 11)\n"
     ]
    }
   ],
   "source": [
    "for counter, files in enumerate(glob.glob(\"asks\\\\*.csv\")):\n",
    "    if not (os.stat(files).st_size <= 2):\n",
    "        data = pd.read_csv(files)\n",
    "        if len(data.columns.to_list()) <= 3:\n",
    "            asks_data = asks_data.append(data)\n",
    "for counter, files in enumerate(glob.glob(\"bids\\\\*.csv\")):\n",
    "    if not (os.stat(files).st_size <= 2):\n",
    "        data = pd.read_csv(files)\n",
    "        if len(data.columns.to_list()) <= 3:\n",
    "            bids_data = bids_data.append(data)\n",
    "for counter, files in enumerate(glob.glob(\"trades\\\\*.csv\")):\n",
    "    if not (os.stat(files).st_size <= 2):\n",
    "        data = pd.read_csv(files)\n",
    "        trades_data = trades_data.append(data)\n",
    "asks_data.sort_values('timestamp')\n",
    "bids_data.sort_values('timestamp')\n",
    "trades_data.sort_values('timestamp')\n",
    "print(asks_data.shape, bids_data.shape, trades_data.shape)"
   ]
  },
  {
   "cell_type": "code",
   "execution_count": 102,
   "metadata": {},
   "outputs": [
    {
     "name": "stdout",
     "output_type": "stream",
     "text": [
      "1607904000000 1607990400000\n"
     ]
    }
   ],
   "source": [
    "from_timestamp = (pd.to_datetime(['2020-12-14 00:00:00']) - pd.Timestamp(\"1970-01-01\")) // pd.Timedelta('1ms')\n",
    "from_timestamp = from_timestamp.item()\n",
    "to_timestamp = (pd.to_datetime(['2020-12-15 00:00:00']) - pd.Timestamp(\"1970-01-01\")) // pd.Timedelta('1ms')\n",
    "to_timestamp = to_timestamp.item()\n",
    "print(from_timestamp, to_timestamp)\n",
    "asks_14122020 = asks_data[(asks_data['timestamp'] >= from_timestamp) & (asks_data['timestamp'] <= to_timestamp)]\n",
    "bids_14122020 = bids_data[(bids_data['timestamp'] >= from_timestamp) & (bids_data['timestamp'] <= to_timestamp)]\n",
    "trades_14122020 = trades_data[(trades_data['timestamp'] >= from_timestamp) & (trades_data['timestamp'] <= to_timestamp)]"
   ]
  },
  {
   "cell_type": "code",
   "execution_count": 103,
   "metadata": {},
   "outputs": [],
   "source": [
    "#  pd.concat(g for _, g in asks_14122020.groupby([\"price\", \"size\", \"timestamp\"]) if len(g) > 1)"
   ]
  },
  {
   "cell_type": "code",
   "execution_count": 104,
   "metadata": {},
   "outputs": [
    {
     "name": "stdout",
     "output_type": "stream",
     "text": [
      "(93, 3) (96, 3) (900, 11)\n"
     ]
    }
   ],
   "source": [
    "asks_14122020 = asks_14122020.drop_duplicates()\n",
    "bids_14122020 = bids_14122020.drop_duplicates()\n",
    "trades_14122020 = trades_14122020.drop_duplicates()\n",
    "print(asks_14122020.shape, bids_14122020.shape, trades_14122020.shape)"
   ]
  },
  {
   "cell_type": "code",
   "execution_count": 105,
   "metadata": {},
   "outputs": [],
   "source": [
    "asks_14122020.to_csv('14122020_asks.csv', index=False)\n",
    "bids_14122020.to_csv('14122020_bids.csv', index=False)\n",
    "trades_14122020.to_csv('14122020_trades.csv', index=False)"
   ]
  },
  {
   "cell_type": "code",
   "execution_count": null,
   "metadata": {},
   "outputs": [],
   "source": []
  }
 ],
 "metadata": {
  "kernelspec": {
   "display_name": "Python 3",
   "language": "python",
   "name": "python3"
  },
  "language_info": {
   "codemirror_mode": {
    "name": "ipython",
    "version": 3
   },
   "file_extension": ".py",
   "mimetype": "text/x-python",
   "name": "python",
   "nbconvert_exporter": "python",
   "pygments_lexer": "ipython3",
   "version": "3.7.9"
  }
 },
 "nbformat": 4,
 "nbformat_minor": 4
}
