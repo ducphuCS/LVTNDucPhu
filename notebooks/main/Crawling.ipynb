{
 "cells": [
  {
   "cell_type": "code",
   "execution_count": 13,
   "id": "german-language",
   "metadata": {},
   "outputs": [],
   "source": [
    "from requests import Request, Session\n",
    "import json\n",
    "import numpy as np\n",
    "import pandas as pd"
   ]
  },
  {
   "cell_type": "code",
   "execution_count": 14,
   "id": "considerable-remainder",
   "metadata": {},
   "outputs": [],
   "source": [
    "import time"
   ]
  },
  {
   "cell_type": "code",
   "execution_count": 15,
   "id": "ranging-immune",
   "metadata": {},
   "outputs": [],
   "source": [
    "# url = 'https://cloud.iexapis.com/stable/stock/AAPL/book'\n",
    "url_book = 'https://cloud.iexapis.com/stable/deep/book'\n",
    "url_trade = 'https://cloud.iexapis.com/stable/deep/trades'\n",
    "# url = 'https://sandbox.iexapis.com/stable/deep/book'"
   ]
  },
  {
   "cell_type": "code",
   "execution_count": 16,
   "id": "thermal-recruitment",
   "metadata": {},
   "outputs": [],
   "source": [
    "parameters_book = {\n",
    "#     'token': 'Tsk_83f2c0eee6bb4600b8d8f9936a5769f2',\n",
    "    'token': 'sk_b8918e562940417ca9b6615a914b75bd',\n",
    "    'symbols': \"AAPL\"\n",
    "}\n",
    "parameters_trade = {\n",
    "    'token': 'sk_b8918e562940417ca9b6615a914b75bd',\n",
    "    'symbols': 'AAPL',\n",
    "    'last': 500\n",
    "}\n",
    "headers = {\n",
    "    'Accepts': 'application/json'\n",
    "}"
   ]
  },
  {
   "cell_type": "code",
   "execution_count": 17,
   "id": "comic-roulette",
   "metadata": {},
   "outputs": [],
   "source": [
    "session = Session()\n",
    "session.headers.update(headers)"
   ]
  },
  {
   "cell_type": "markdown",
   "id": "aquatic-massachusetts",
   "metadata": {},
   "source": [
    "# Function"
   ]
  },
  {
   "cell_type": "code",
   "execution_count": 18,
   "id": "meaning-jonathan",
   "metadata": {},
   "outputs": [],
   "source": [
    "def crawl_book():\n",
    "    columns = ['price','size','timestamp']\n",
    "    bids = pd.DataFrame(columns=columns)\n",
    "    asks = pd.DataFrame(columns=columns)\n",
    "    response = session.get(url_book, params=parameters_book)\n",
    "    if not response.status_code == 200:\n",
    "        print(response.text)\n",
    "        return bids, asks\n",
    "    data = json.loads(response.text)\n",
    "    if not 'AAPL' in data:\n",
    "        return bids, asks\n",
    "    else:\n",
    "        data = data.get('AAPL')\n",
    "    if 'bids' in data and 'asks' in data:\n",
    "        bids = pd.DataFrame(data.get('bids'))\n",
    "        asks = pd.DataFrame(data.get('asks')) \n",
    "    return bids, asks"
   ]
  },
  {
   "cell_type": "code",
   "execution_count": 19,
   "id": "purple-above",
   "metadata": {},
   "outputs": [],
   "source": [
    "def crawl_trade():\n",
    "    columns = ['price','size','timestamp']\n",
    "    trades = pd.DataFrame(columns=columns)\n",
    "    response = session.get(url_trade, params=parameters_trade)\n",
    "    if not response.status_code == 200:\n",
    "        print(response.text)\n",
    "        return trades\n",
    "    data = json.loads(response.text)\n",
    "    if not 'AAPL' in data:\n",
    "        return trades\n",
    "    else:\n",
    "        data = pd.DataFrame(data.get('AAPL'))\n",
    "    if not data.empty:\n",
    "        trades = data[['price','size','timestamp']]\n",
    "    return trades"
   ]
  },
  {
   "cell_type": "markdown",
   "id": "allied-manhattan",
   "metadata": {},
   "source": [
    "# Collect data"
   ]
  },
  {
   "cell_type": "code",
   "execution_count": 20,
   "id": "pleasant-phenomenon",
   "metadata": {},
   "outputs": [],
   "source": [
    "total_trades = pd.read_csv('trades.csv')"
   ]
  },
  {
   "cell_type": "markdown",
   "id": "angry-bloom",
   "metadata": {},
   "source": [
    "## New data"
   ]
  },
  {
   "cell_type": "code",
   "execution_count": 31,
   "id": "certified-tampa",
   "metadata": {},
   "outputs": [],
   "source": [
    "i = 0\n",
    "bids = pd.DataFrame(columns=['price','size','timestamp'])\n",
    "asks = pd.DataFrame(columns=['price','size','timestamp'])\n",
    "old_trades = pd.DataFrame(columns=['price','size','timestamp'])\n",
    "trades = pd.DataFrame(columns=['price','size','timestamp'])\n",
    "while i >= 0 and i < 50:\n",
    "    new_bids, new_asks = crawl_book()\n",
    "    new_trades = crawl_trade()\n",
    "    cur_time = round(time.time())\n",
    "    if not new_trades.empty and not new_trades.equals(old_trades):\n",
    "        trades = trades.append(new_trades)\n",
    "        old_trades = new_trades\n",
    "    if not new_bids.empty and not new_bids.equals(bids):\n",
    "        new_bids.to_csv('bids/{0}.csv'.format(cur_time), index=False)\n",
    "        bids = new_bids\n",
    "    if not new_asks.empty and not new_asks.equals(asks):\n",
    "        new_asks.to_csv('asks/{0}.csv'.format(cur_time), index=False)\n",
    "        asks = new_asks\n",
    "    i = i + 1\n",
    "    if i % 10 == 0: # mod 100\n",
    "        if not len(trades.merge(total_trades)) == len(trades):\n",
    "            total_trades = total_trades.append(trades)\n",
    "            total_trades.to_csv('trades.csv', index=False)\n",
    "        trades = pd.DataFrame(columns=['price','size','timestamp'])\n",
    "    time.sleep(1)"
   ]
  },
  {
   "cell_type": "code",
   "execution_count": null,
   "id": "civilian-tunnel",
   "metadata": {},
   "outputs": [],
   "source": []
  }
 ],
 "metadata": {
  "kernelspec": {
   "display_name": "Python 3",
   "language": "python",
   "name": "python3"
  },
  "language_info": {
   "codemirror_mode": {
    "name": "ipython",
    "version": 3
   },
   "file_extension": ".py",
   "mimetype": "text/x-python",
   "name": "python",
   "nbconvert_exporter": "python",
   "pygments_lexer": "ipython3",
   "version": "3.7.9"
  }
 },
 "nbformat": 4,
 "nbformat_minor": 5
}
