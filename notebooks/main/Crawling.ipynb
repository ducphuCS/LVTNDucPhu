{
 "cells": [
  {
   "cell_type": "code",
   "execution_count": null,
   "id": "governmental-economy",
   "metadata": {},
   "outputs": [],
   "source": [
    "from requests import Request, Session\n",
    "import json\n",
    "import numpy as np\n",
    "import pandas as pd"
   ]
  },
  {
   "cell_type": "code",
   "execution_count": null,
   "id": "opponent-gabriel",
   "metadata": {},
   "outputs": [],
   "source": [
    "import time"
   ]
  },
  {
   "cell_type": "code",
   "execution_count": null,
   "id": "physical-company",
   "metadata": {},
   "outputs": [],
   "source": [
    "url = 'https://cloud.iexapis.com/stable/stock/AAPL/book'\n",
    "# url = 'https://cloud.iexapis.com/stable/deep/book'\n",
    "# url = 'https://sandbox.iexapis.com/stable/deep/book'"
   ]
  },
  {
   "cell_type": "code",
   "execution_count": null,
   "id": "approved-brooklyn",
   "metadata": {},
   "outputs": [],
   "source": [
    "parameters = {\n",
    "#     'token': 'Tsk_83f2c0eee6bb4600b8d8f9936a5769f2',\n",
    "    'token': 'sk_b8918e562940417ca9b6615a914b75bd'\n",
    "#     'symbols': \"AAPL\"\n",
    "}\n",
    "headers = {\n",
    "    'Accepts': 'application/json'\n",
    "}"
   ]
  },
  {
   "cell_type": "code",
   "execution_count": null,
   "id": "arctic-agreement",
   "metadata": {},
   "outputs": [],
   "source": [
    "session = Session()\n",
    "session.headers.update(headers)"
   ]
  },
  {
   "cell_type": "markdown",
   "id": "legitimate-movement",
   "metadata": {},
   "source": [
    "# Function"
   ]
  },
  {
   "cell_type": "code",
   "execution_count": null,
   "id": "veterinary-facility",
   "metadata": {},
   "outputs": [],
   "source": [
    "def print_data(bids, asks, trades):\n",
    "    print(bids)\n",
    "    print(asks)\n",
    "    print(trades)"
   ]
  },
  {
   "cell_type": "code",
   "execution_count": 27,
   "id": "shared-welcome",
   "metadata": {},
   "outputs": [],
   "source": [
    "def crawl_bid_ask():\n",
    "    response = session.get(url, params=parameters)\n",
    "    data = json.loads(response.text)\n",
    "    if 'bids' in data and 'asks' in data and 'trades' in data:\n",
    "        bids = pd.DataFrame(data.get('bids'))\n",
    "        asks = pd.DataFrame(data.get('asks'))\n",
    "        trades = pd.DataFrame(data.get('trades'))\n",
    "    else:\n",
    "        columns = ['price','size','timestamp']\n",
    "        bids = pd.DataFrame(columns=columns)\n",
    "        asks = pd.DataFrame(columns=columns)\n",
    "        trades = pd.DataFrame(columns=columns)\n",
    "    if not trades.empty:\n",
    "        trades = trades[['price','size','timestamp']]\n",
    "    print(trades.head(3))\n",
    "    return bids, asks, trades"
   ]
  },
  {
   "cell_type": "code",
   "execution_count": 28,
   "id": "verified-progressive",
   "metadata": {},
   "outputs": [],
   "source": [
    "def crawl_trade():\n",
    "    response = session.get(url, params=parameters)"
   ]
  },
  {
   "cell_type": "markdown",
   "id": "public-portuguese",
   "metadata": {},
   "source": [
    "# Initial dataframe\n",
    "run 1 times"
   ]
  },
  {
   "cell_type": "code",
   "execution_count": null,
   "id": "improving-prefix",
   "metadata": {},
   "outputs": [],
   "source": [
    "# bids = pd.DataFrame(columns=['price','size','timestamp'])\n",
    "# asks = pd.DataFrame(columns=['price','size','timestamp'])\n",
    "trades = pd.DataFrame(columns=['price','size','timestamp'])\n",
    "# bids.to_csv('bids.csv', index=False)\n",
    "# asks.to_csv('asks.csv', index=False)\n",
    "trades.to_csv('trades.csv', index=False)"
   ]
  },
  {
   "cell_type": "markdown",
   "id": "coastal-glass",
   "metadata": {},
   "source": [
    "# Collect data"
   ]
  },
  {
   "cell_type": "code",
   "execution_count": null,
   "id": "rocky-pricing",
   "metadata": {},
   "outputs": [],
   "source": [
    "# total_bids = pd.read_csv('bids.csv')\n",
    "# total_asks = pd.read_csv('asks.csv')\n",
    "total_trades = pd.read_csv('trades.csv')"
   ]
  },
  {
   "cell_type": "markdown",
   "id": "younger-metabolism",
   "metadata": {},
   "source": [
    "## New data"
   ]
  },
  {
   "cell_type": "code",
   "execution_count": null,
   "id": "controversial-proportion",
   "metadata": {},
   "outputs": [],
   "source": [
    "# for i in range(0,10): # change this into infinite loop when ready\n",
    "#     bids, asks, trades = crawl()\n",
    "#     total_bids = total_bids.append(bids).drop_duplicates(subset='timestamp')\n",
    "#     total_asks = total_asks.append(asks).drop_duplicates(subset='timestamp')\n",
    "#     total_trades = total_trades.append(trades).drop_duplicates(subset='timestamp')\n",
    "#     time.sleep(20)"
   ]
  },
  {
   "cell_type": "code",
   "execution_count": null,
   "id": "metric-motel",
   "metadata": {},
   "outputs": [],
   "source": [
    "# total_bids.to_csv('bids.csv', index=False)\n",
    "# total_asks.to_csv('asks.csv', index=False)\n",
    "# total_trades.to_csv('trades.csv', index=False)"
   ]
  },
  {
   "cell_type": "code",
   "execution_count": null,
   "id": "documented-battle",
   "metadata": {},
   "outputs": [],
   "source": [
    "i = 0\n",
    "while i >= 0:\n",
    "    bids, asks, trades = crawl()\n",
    "#     total_bids = total_bids.append(bids).drop_duplicates(subset='timestamp')\n",
    "#     total_asks = total_asks.append(asks).drop_duplicates(subset='timestamp')\n",
    "    cur_time = round(time.time())\n",
    "    if not bids.empty and asks.empty:\n",
    "        bids.to_csv('bids/{0}.csv'.format(cur_time), index=False)\n",
    "        asks.to_csv('asks/{0}.csv'.format(curtime), index=False)\n",
    "    total_trades = total_trades.append(trades).drop_duplicates(subset='timestamp')\n",
    "    i = i + 1\n",
    "    if i % 2 == 0: # mod 100\n",
    "#         total_bids.to_csv('bids.csv', index=False)\n",
    "#         total_asks.to_csv('asks.csv', index=False)\n",
    "        total_trades.to_csv('trades.csv', index=False)\n",
    "    time.sleep(20)"
   ]
  },
  {
   "cell_type": "code",
   "execution_count": null,
   "id": "loved-outdoors",
   "metadata": {},
   "outputs": [],
   "source": []
  }
 ],
 "metadata": {
  "kernelspec": {
   "display_name": "Python 3",
   "language": "python",
   "name": "python3"
  },
  "language_info": {
   "codemirror_mode": {
    "name": "ipython",
    "version": 3
   },
   "file_extension": ".py",
   "mimetype": "text/x-python",
   "name": "python",
   "nbconvert_exporter": "python",
   "pygments_lexer": "ipython3",
   "version": "3.7.9"
  }
 },
 "nbformat": 4,
 "nbformat_minor": 5
}
