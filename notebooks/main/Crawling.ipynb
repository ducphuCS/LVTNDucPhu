{
 "cells": [
  {
   "cell_type": "code",
   "execution_count": null,
   "id": "damaged-denver",
   "metadata": {},
   "outputs": [],
   "source": [
    "from requests import Request, Session\n",
    "import json\n",
    "import numpy as np\n",
    "import pandas as pd"
   ]
  },
  {
   "cell_type": "code",
   "execution_count": null,
   "id": "chubby-huntington",
   "metadata": {},
   "outputs": [],
   "source": [
    "import time"
   ]
  },
  {
   "cell_type": "code",
   "execution_count": null,
   "id": "noble-incidence",
   "metadata": {},
   "outputs": [],
   "source": [
    "# url = 'https://cloud.iexapis.com/stable/stock/AAPL/book'\n",
    "url_book = 'https://cloud.iexapis.com/stable/deep/book'\n",
    "url_trade = 'https://cloud.iexapis.com/stable/deep/trades'\n",
    "# url = 'https://sandbox.iexapis.com/stable/deep/book'"
   ]
  },
  {
   "cell_type": "code",
   "execution_count": null,
   "id": "disabled-stevens",
   "metadata": {},
   "outputs": [],
   "source": [
    "parameters_book = {\n",
    "#     'token': 'Tsk_83f2c0eee6bb4600b8d8f9936a5769f2',\n",
    "    'token': 'sk_b8918e562940417ca9b6615a914b75bd',\n",
    "    'symbols': \"AAPL\"\n",
    "}\n",
    "parameters_trade = {\n",
    "    'token': 'sk_b8918e562940417ca9b6615a914b75bd',\n",
    "    'symbols': 'AAPL',\n",
    "    'last': 500\n",
    "}\n",
    "headers = {\n",
    "    'Accepts': 'application/json'\n",
    "}"
   ]
  },
  {
   "cell_type": "code",
   "execution_count": null,
   "id": "stupid-mercy",
   "metadata": {},
   "outputs": [],
   "source": [
    "session = Session()\n",
    "session.headers.update(headers)"
   ]
  },
  {
   "cell_type": "markdown",
   "id": "massive-laugh",
   "metadata": {},
   "source": [
    "# Function"
   ]
  },
  {
   "cell_type": "code",
   "execution_count": null,
   "id": "static-supplier",
   "metadata": {},
   "outputs": [],
   "source": [
    "def crawl_book():\n",
    "    columns = ['price','size','timestamp']\n",
    "    bids = pd.DataFrame(columns=columns)\n",
    "    asks = pd.DataFrame(columns=columns)\n",
    "    response = session.get(url_book, params=parameters_book)\n",
    "    if not response.status_code == 200:\n",
    "        print(response.text)\n",
    "        return bids, asks\n",
    "    data = json.loads(response.text)\n",
    "    if not 'AAPL' in data:\n",
    "        return bids, asks\n",
    "    else:\n",
    "        data = data.get('AAPL')\n",
    "    if 'bids' in data and 'asks' in data:\n",
    "        bids = pd.DataFrame(data.get('bids'))\n",
    "        asks = pd.DataFrame(data.get('asks')) \n",
    "    return bids, asks"
   ]
  },
  {
   "cell_type": "code",
   "execution_count": null,
   "id": "victorian-international",
   "metadata": {},
   "outputs": [],
   "source": [
    "def crawl_trade():\n",
    "    columns = ['price','size','timestamp']\n",
    "    trades = pd.DataFrame(columns=columns)\n",
    "    response = session.get(url_trade, params=parameters_trade)\n",
    "    if not response.status_code == 200:\n",
    "        print(response.text)\n",
    "        return trades\n",
    "    data = json.loads(response.text)\n",
    "    if not 'AAPL' in data:\n",
    "        return trades\n",
    "    else:\n",
    "        data = pd.DataFrame(data.get('AAPL'))\n",
    "    if not data.empty:\n",
    "        trades = data[['price','size','timestamp']]\n",
    "    return trades"
   ]
  },
  {
   "cell_type": "markdown",
   "id": "other-madonna",
   "metadata": {},
   "source": [
    "# Collect data"
   ]
  },
  {
   "cell_type": "code",
   "execution_count": null,
   "id": "civilian-composite",
   "metadata": {},
   "outputs": [],
   "source": [
    "total_trades = pd.read_csv('trades.csv')"
   ]
  },
  {
   "cell_type": "markdown",
   "id": "proud-laptop",
   "metadata": {},
   "source": [
    "## New data"
   ]
  },
  {
   "cell_type": "code",
   "execution_count": 70,
   "id": "classified-danger",
   "metadata": {},
   "outputs": [
    {
     "name": "stdout",
     "output_type": "stream",
     "text": [
      "    price  size      timestamp\n",
      "0  124.94    50  1614186195933\n",
      "1  124.94  1000  1614186195022\n",
      "2  124.94   200  1614186195022\n",
      "    price size      timestamp\n",
      "0  124.97  300  1614186211349\n",
      "1  124.96  100  1614186211253\n",
      "2  124.97    2  1614186210650\n",
      "    price size      timestamp\n",
      "0  124.96  109  1614186227229\n",
      "1  124.97  300  1614186222610\n",
      "2  124.98   24  1614186220984\n",
      "    price size      timestamp\n",
      "0  124.98    2  1614186242378\n",
      "1  124.99  100  1614186240083\n",
      "2  124.99  100  1614186240043\n",
      "     price size      timestamp\n",
      "0  124.930  100  1614186258889\n",
      "1  124.945   78  1614186256154\n",
      "2  124.910  100  1614186252047\n"
     ]
    }
   ],
   "source": [
    "i = 0\n",
    "bids = pd.DataFrame(columns=['price','size','timestamp'])\n",
    "asks = pd.DataFrame(columns=['price','size','timestamp'])\n",
    "while i >= 0 and i < 50:\n",
    "    new_bids, new_asks = crawl_book()\n",
    "    trades = pd.DataFrame(columns=['price','size','timestamp'])\n",
    "    new_trades = crawl_trade()\n",
    "    trades = trades.append(new_trades)\n",
    "    cur_time = round(time.time())\n",
    "    if not new_bids.empty and not new_bids.equals(bids):\n",
    "        new_bids.to_csv('bids/{0}.csv'.format(cur_time), index=False)\n",
    "        bids = new_bids\n",
    "    if not new_asks.empty and not new_asks.equals(asks):\n",
    "        new_asks.to_csv('asks/{0}.csv'.format(cur_time), index=False)\n",
    "        asks = new_asks\n",
    "    i = i + 1\n",
    "    if i % 10 == 0: # mod 100\n",
    "        print(trades.head(3))\n",
    "        total_trades = total_trades.append(trades)\n",
    "        total_trades.to_csv('trades.csv', index=False)\n",
    "    time.sleep(1)"
   ]
  },
  {
   "cell_type": "code",
   "execution_count": null,
   "id": "weekly-newsletter",
   "metadata": {},
   "outputs": [],
   "source": []
  }
 ],
 "metadata": {
  "kernelspec": {
   "display_name": "Python 3",
   "language": "python",
   "name": "python3"
  },
  "language_info": {
   "codemirror_mode": {
    "name": "ipython",
    "version": 3
   },
   "file_extension": ".py",
   "mimetype": "text/x-python",
   "name": "python",
   "nbconvert_exporter": "python",
   "pygments_lexer": "ipython3",
   "version": "3.7.9"
  }
 },
 "nbformat": 4,
 "nbformat_minor": 5
}
