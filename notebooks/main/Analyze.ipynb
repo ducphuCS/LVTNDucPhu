{
 "cells": [
  {
   "cell_type": "markdown",
   "id": "perceived-passion",
   "metadata": {},
   "source": [
    "# No particular purpose"
   ]
  },
  {
   "cell_type": "code",
   "execution_count": 1,
   "id": "coordinated-lease",
   "metadata": {},
   "outputs": [],
   "source": [
    "import json\n",
    "import numpy as np\n",
    "import pandas as pd"
   ]
  },
  {
   "cell_type": "code",
   "execution_count": 2,
   "id": "massive-drinking",
   "metadata": {},
   "outputs": [],
   "source": [
    "asks = pd.read_csv('asks.csv')\n",
    "bids = pd.read_csv('bids.csv')\n",
    "trades = pd.read_csv('trades.csv')"
   ]
  },
  {
   "cell_type": "code",
   "execution_count": 4,
   "id": "contemporary-broad",
   "metadata": {},
   "outputs": [
    {
     "name": "stdout",
     "output_type": "stream",
     "text": [
      "36346\n"
     ]
    }
   ],
   "source": [
    "diff_size = asks['size'].sum() + bids['size'].sum() -  trades['size'].sum()\n",
    "print(diff_size)"
   ]
  },
  {
   "cell_type": "code",
   "execution_count": 8,
   "id": "charming-preference",
   "metadata": {},
   "outputs": [
    {
     "data": {
      "text/html": [
       "<div>\n",
       "<style scoped>\n",
       "    .dataframe tbody tr th:only-of-type {\n",
       "        vertical-align: middle;\n",
       "    }\n",
       "\n",
       "    .dataframe tbody tr th {\n",
       "        vertical-align: top;\n",
       "    }\n",
       "\n",
       "    .dataframe thead th {\n",
       "        text-align: right;\n",
       "    }\n",
       "</style>\n",
       "<table border=\"1\" class=\"dataframe\">\n",
       "  <thead>\n",
       "    <tr style=\"text-align: right;\">\n",
       "      <th></th>\n",
       "      <th>price</th>\n",
       "      <th>size</th>\n",
       "      <th>timestamp</th>\n",
       "    </tr>\n",
       "  </thead>\n",
       "  <tbody>\n",
       "    <tr>\n",
       "      <th>6</th>\n",
       "      <td>130.00</td>\n",
       "      <td>180</td>\n",
       "      <td>1614004204857</td>\n",
       "    </tr>\n",
       "    <tr>\n",
       "      <th>9</th>\n",
       "      <td>143.98</td>\n",
       "      <td>37500</td>\n",
       "      <td>1614004204864</td>\n",
       "    </tr>\n",
       "    <tr>\n",
       "      <th>8</th>\n",
       "      <td>136.00</td>\n",
       "      <td>100</td>\n",
       "      <td>1614004210218</td>\n",
       "    </tr>\n",
       "    <tr>\n",
       "      <th>7</th>\n",
       "      <td>133.73</td>\n",
       "      <td>200</td>\n",
       "      <td>1614004210450</td>\n",
       "    </tr>\n",
       "    <tr>\n",
       "      <th>10</th>\n",
       "      <td>145.00</td>\n",
       "      <td>100</td>\n",
       "      <td>1614004211504</td>\n",
       "    </tr>\n",
       "    <tr>\n",
       "      <th>5</th>\n",
       "      <td>129.80</td>\n",
       "      <td>100</td>\n",
       "      <td>1614004986580</td>\n",
       "    </tr>\n",
       "    <tr>\n",
       "      <th>1</th>\n",
       "      <td>128.90</td>\n",
       "      <td>100</td>\n",
       "      <td>1614005621038</td>\n",
       "    </tr>\n",
       "    <tr>\n",
       "      <th>3</th>\n",
       "      <td>129.30</td>\n",
       "      <td>300</td>\n",
       "      <td>1614005977637</td>\n",
       "    </tr>\n",
       "    <tr>\n",
       "      <th>2</th>\n",
       "      <td>129.00</td>\n",
       "      <td>100</td>\n",
       "      <td>1614006389055</td>\n",
       "    </tr>\n",
       "    <tr>\n",
       "      <th>0</th>\n",
       "      <td>128.00</td>\n",
       "      <td>100</td>\n",
       "      <td>1614007085948</td>\n",
       "    </tr>\n",
       "    <tr>\n",
       "      <th>4</th>\n",
       "      <td>129.50</td>\n",
       "      <td>200</td>\n",
       "      <td>1614008511470</td>\n",
       "    </tr>\n",
       "    <tr>\n",
       "      <th>12</th>\n",
       "      <td>127.04</td>\n",
       "      <td>100</td>\n",
       "      <td>1614008653162</td>\n",
       "    </tr>\n",
       "    <tr>\n",
       "      <th>11</th>\n",
       "      <td>127.00</td>\n",
       "      <td>100</td>\n",
       "      <td>1614008654196</td>\n",
       "    </tr>\n",
       "    <tr>\n",
       "      <th>13</th>\n",
       "      <td>126.97</td>\n",
       "      <td>100</td>\n",
       "      <td>1614008759603</td>\n",
       "    </tr>\n",
       "    <tr>\n",
       "      <th>14</th>\n",
       "      <td>126.98</td>\n",
       "      <td>200</td>\n",
       "      <td>1614008800862</td>\n",
       "    </tr>\n",
       "    <tr>\n",
       "      <th>15</th>\n",
       "      <td>127.02</td>\n",
       "      <td>100</td>\n",
       "      <td>1614008824664</td>\n",
       "    </tr>\n",
       "  </tbody>\n",
       "</table>\n",
       "</div>"
      ],
      "text/plain": [
       "     price   size      timestamp\n",
       "6   130.00    180  1614004204857\n",
       "9   143.98  37500  1614004204864\n",
       "8   136.00    100  1614004210218\n",
       "7   133.73    200  1614004210450\n",
       "10  145.00    100  1614004211504\n",
       "5   129.80    100  1614004986580\n",
       "1   128.90    100  1614005621038\n",
       "3   129.30    300  1614005977637\n",
       "2   129.00    100  1614006389055\n",
       "0   128.00    100  1614007085948\n",
       "4   129.50    200  1614008511470\n",
       "12  127.04    100  1614008653162\n",
       "11  127.00    100  1614008654196\n",
       "13  126.97    100  1614008759603\n",
       "14  126.98    200  1614008800862\n",
       "15  127.02    100  1614008824664"
      ]
     },
     "execution_count": 8,
     "metadata": {},
     "output_type": "execute_result"
    }
   ],
   "source": [
    "asks.sort_values('timestamp')"
   ]
  },
  {
   "cell_type": "code",
   "execution_count": null,
   "id": "premier-kelly",
   "metadata": {},
   "outputs": [],
   "source": []
  }
 ],
 "metadata": {
  "kernelspec": {
   "display_name": "Python 3",
   "language": "python",
   "name": "python3"
  },
  "language_info": {
   "codemirror_mode": {
    "name": "ipython",
    "version": 3
   },
   "file_extension": ".py",
   "mimetype": "text/x-python",
   "name": "python",
   "nbconvert_exporter": "python",
   "pygments_lexer": "ipython3",
   "version": "3.7.9"
  }
 },
 "nbformat": 4,
 "nbformat_minor": 5
}
